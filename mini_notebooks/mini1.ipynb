{
 "cells": [
  {
   "cell_type": "code",
   "execution_count": 61,
   "metadata": {},
   "outputs": [
    {
     "name": "stdout",
     "output_type": "stream",
     "text": [
      "Requirement already satisfied: numpy in c:\\users\\hashi\\appdata\\local\\programs\\python\\python310\\lib\\site-packages (1.22.2)\n",
      "Note: you may need to restart the kernel to use updated packages.\n"
     ]
    },
    {
     "name": "stderr",
     "output_type": "stream",
     "text": [
      "\n",
      "[notice] A new release of pip available: 22.3.1 -> 23.0\n",
      "[notice] To update, run: python.exe -m pip install --upgrade pip\n"
     ]
    },
    {
     "name": "stdout",
     "output_type": "stream",
     "text": [
      "Note: you may need to restart the kernel to use updated packages.\n",
      "Requirement already satisfied: pandas in c:\\users\\hashi\\appdata\\local\\programs\\python\\python310\\lib\\site-packages (1.4.2)\n",
      "Requirement already satisfied: python-dateutil>=2.8.1 in c:\\users\\hashi\\appdata\\local\\programs\\python\\python310\\lib\\site-packages (from pandas) (2.8.2)\n",
      "Requirement already satisfied: numpy>=1.21.0 in c:\\users\\hashi\\appdata\\local\\programs\\python\\python310\\lib\\site-packages (from pandas) (1.22.2)\n",
      "Requirement already satisfied: pytz>=2020.1 in c:\\users\\hashi\\appdata\\local\\programs\\python\\python310\\lib\\site-packages (from pandas) (2022.7.1)\n",
      "Requirement already satisfied: six>=1.5 in c:\\users\\hashi\\appdata\\local\\programs\\python\\python310\\lib\\site-packages (from python-dateutil>=2.8.1->pandas) (1.16.0)\n"
     ]
    },
    {
     "name": "stderr",
     "output_type": "stream",
     "text": [
      "\n",
      "[notice] A new release of pip available: 22.3.1 -> 23.0\n",
      "[notice] To update, run: python.exe -m pip install --upgrade pip\n"
     ]
    },
    {
     "name": "stdout",
     "output_type": "stream",
     "text": [
      "Requirement already satisfied: matplotlib in c:\\users\\hashi\\appdata\\local\\programs\\python\\python310\\lib\\site-packages (3.5.1)\n",
      "Requirement already satisfied: fonttools>=4.22.0 in c:\\users\\hashi\\appdata\\local\\programs\\python\\python310\\lib\\site-packages (from matplotlib) (4.29.1)\n",
      "Requirement already satisfied: pyparsing>=2.2.1 in c:\\users\\hashi\\appdata\\local\\programs\\python\\python310\\lib\\site-packages (from matplotlib) (3.0.7)\n",
      "Requirement already satisfied: kiwisolver>=1.0.1 in c:\\users\\hashi\\appdata\\local\\programs\\python\\python310\\lib\\site-packages (from matplotlib) (1.3.2)\n",
      "Requirement already satisfied: pillow>=6.2.0 in c:\\users\\hashi\\appdata\\local\\programs\\python\\python310\\lib\\site-packages (from matplotlib) (9.1.0)\n",
      "Requirement already satisfied: cycler>=0.10 in c:\\users\\hashi\\appdata\\local\\programs\\python\\python310\\lib\\site-packages (from matplotlib) (0.11.0)\n",
      "Requirement already satisfied: numpy>=1.17 in c:\\users\\hashi\\appdata\\local\\programs\\python\\python310\\lib\\site-packages (from matplotlib) (1.22.2)\n",
      "Requirement already satisfied: python-dateutil>=2.7 in c:\\users\\hashi\\appdata\\local\\programs\\python\\python310\\lib\\site-packages (from matplotlib) (2.8.2)\n",
      "Requirement already satisfied: packaging>=20.0 in c:\\users\\hashi\\appdata\\local\\programs\\python\\python310\\lib\\site-packages (from matplotlib) (21.3)\n",
      "Requirement already satisfied: six>=1.5 in c:\\users\\hashi\\appdata\\local\\programs\\python\\python310\\lib\\site-packages (from python-dateutil>=2.7->matplotlib) (1.16.0)\n",
      "Note: you may need to restart the kernel to use updated packages.\n"
     ]
    },
    {
     "name": "stderr",
     "output_type": "stream",
     "text": [
      "\n",
      "[notice] A new release of pip available: 22.3.1 -> 23.0\n",
      "[notice] To update, run: python.exe -m pip install --upgrade pip\n"
     ]
    }
   ],
   "source": [
    "%pip install numpy\n",
    "%pip install pandas\n",
    "%pip install matplotlib\n",
    "\n",
    "import numpy as np\n",
    "import pandas as pd\n",
    "from matplotlib import pyplot as plt"
   ]
  },
  {
   "cell_type": "code",
   "execution_count": 62,
   "metadata": {},
   "outputs": [
    {
     "name": "stdout",
     "output_type": "stream",
     "text": [
      "     industrial risk  management risk  financial flexibility  credibility  competitiveness  operating risk  class\n",
      "0                  1                1                      0            0                0               1      0\n",
      "1                 -1               -1                      0            0                0              -1      0\n",
      "2                  0                0                      0            0                0               0      0\n",
      "3                  1                1                      1            1                1               1      0\n",
      "4                 -1               -1                      1            1                1              -1      0\n",
      "..               ...              ...                    ...          ...              ...             ...    ...\n",
      "245               -1               -1                      0           -1               -1              -1      1\n",
      "246                1               -1                     -1           -1               -1              -1      1\n",
      "247                0               -1                     -1           -1               -1              -1      1\n",
      "248               -1               -1                     -1           -1               -1              -1      1\n",
      "249                1               -1                     -1           -1                0               0      1\n",
      "\n",
      "[250 rows x 7 columns]\n"
     ]
    },
    {
     "data": {
      "text/plain": [
       "array([[ 1.,  1.,  1., ...,  1.,  1.,  0.],\n",
       "       [ 1.,  0.,  1., ...,  0.,  1.,  0.],\n",
       "       [ 1., -1., -1., ..., -1.,  0.,  1.],\n",
       "       ...,\n",
       "       [ 1.,  0.,  0., ...,  0.,  0.,  0.],\n",
       "       [ 1.,  1., -1., ...,  0.,  0.,  1.],\n",
       "       [ 1.,  0., -1., ..., -1., -1.,  1.]])"
      ]
     },
     "execution_count": 62,
     "metadata": {},
     "output_type": "execute_result"
    }
   ],
   "source": [
    "# reading and filtering dataset 2 bankrupcty data\n",
    "pd.set_option('display.expand_frame_repr', False)\n",
    "pd.set_option('display.precision', 2)\n",
    "BNK_DATA = pd.read_csv(\n",
    "    './data/Qualitative_Bankruptcy.data.txt', \n",
    "    sep=',',\n",
    "    names=['industrial risk', 'management risk', 'financial flexibility', 'credibility', 'competitiveness', 'operating risk', 'class'])\n",
    "\n",
    "# mapping data positive: 1, average: 0.5, negative: 0 ... classification not bankrupt: 0, bankrupt: 1\n",
    "for col in BNK_DATA:\n",
    "    BNK_DATA[col] = BNK_DATA[col].replace({\n",
    "        'P': 1, \n",
    "        'A': 0, \n",
    "        'N': -1,\n",
    "        'NB': 0,\n",
    "        'B': 1})\n",
    "\n",
    "print(BNK_DATA)\n",
    "BNK_DATA = BNK_DATA.to_numpy()\n",
    "\n",
    "# shuffling bnk_data across axis 1 before making train validation test splits\n",
    "np.random.shuffle(BNK_DATA)\n",
    "\n",
    "n, d = BNK_DATA.shape\n",
    "# adding bi# adding ones column for bias\n",
    "BNK_DATA = np.column_stack((np.ones(n),BNK_DATA))\n",
    "\n",
    "\n",
    "# 60:20:20 split\n",
    "BNK_TRAIN = BNK_DATA[:150, :]           # 150 samples for training\n",
    "BNK_VALIDATION = BNK_DATA[150:200, :]   # 50 samples for validation / hyperparameter tuning\n",
    "BNK_TEST = BNK_DATA[200:, :]            # 50 samples for testing\n",
    "BNK_TRAIN"
   ]
  },
  {
   "cell_type": "code",
   "execution_count": 63,
   "metadata": {},
   "outputs": [
    {
     "name": "stdout",
     "output_type": "stream",
     "text": [
      "instances: 250\n",
      "features: 6\n",
      "mean: -0.12666666666666668\n",
      "median: 0.0\n",
      "bankrupt: 107.0\n",
      "not bankrupt: 143.0\n"
     ]
    }
   ],
   "source": [
    "# bankrupcty dataset stats\n",
    "n, d = BNK_DATA[:, 1:-1].shape\n",
    "print(f'instances: {n}\\nfeatures: {d}\\nmean: {np.mean(BNK_DATA[:,1:7].flatten())}\\nmedian: {np.median(BNK_DATA[:,1:7].flatten())}')\n",
    "print(f'bankrupt: {sum(BNK_DATA[:, 7])}\\nnot bankrupt: {250-sum(BNK_DATA[:, 7])}')"
   ]
  },
  {
   "cell_type": "code",
   "execution_count": 64,
   "metadata": {},
   "outputs": [],
   "source": [
    "# logistic squishification function\n",
    "logistic = lambda z : 1. / (1 + np.exp(-z))\n",
    "\n",
    "#cross entropy loss function \n",
    "# w: weight column vector   D x 1\n",
    "# x: feature matrix         N x D\n",
    "# y: expected labels        N x 1\n",
    "# yh: predicted labels       N x 1\n",
    "# yh = x @ w\n",
    "def loss(x, y, w):\n",
    "    N, D = x.shape                                                       \n",
    "    z = np.dot(x, w)\n",
    "    return np.mean(y * np.log1p(np.exp(-z)) + (1-y) * np.log1p(np.exp(z)))  #log1p calculates log(1+x) to remove floating point inaccuracies \n",
    "\n",
    "# gradient descent\n",
    "# w: weight column vector   D x 1\n",
    "# x: feature matrix         N x D\n",
    "# y: expected labels        N x 1\n",
    "# yh: predicted labels       N x 1\n",
    "def gradient(w, x, y):\n",
    "    n, d = x.shape\n",
    "    yh = logistic(np.dot(x, w))\n",
    "    return np.dot(x.T, yh - y) / n\n",
    "\n",
    "def fit(x, y, learning_rate: int=0.09, epsilon: int=0.001, max_iters: int=1000, batch_size: int=150):\n",
    "    n, d = x.shape\n",
    "    w = np.zeros(d)\n",
    "    g = np.inf \n",
    "    t = 0\n",
    "    \n",
    "    num_batches = n // batch_size\n",
    "    for i in range(0, num_batches, batch_size):\n",
    "        # the code snippet below is for gradient descent\n",
    "        while np.linalg.norm(g) > epsilon and t < max_iters:\n",
    "            g = gradient(w, x[i:i+batch_size], y[i:i+batch_size])\n",
    "            w = w - learning_rate * g \n",
    "            t += 1\n",
    "\n",
    "    return w\n",
    "\n",
    "def predict(w, x):\n",
    "    yh = logistic(np.dot(x, w))\n",
    "    return np.array([round(num, 2) for num in yh])\n",
    "\n",
    "x = BNK_TRAIN[:, :7]\n",
    "y = BNK_TRAIN[:, 7]\n",
    "\n",
    "w = fit(x, y)"
   ]
  },
  {
   "cell_type": "code",
   "execution_count": 65,
   "metadata": {},
   "outputs": [
    {
     "name": "stdout",
     "output_type": "stream",
     "text": [
      "y_test: yh_test\n",
      "[[1.   0.96]\n",
      " [1.   1.  ]\n",
      " [0.   0.  ]\n",
      " [0.   0.  ]\n",
      " [0.   0.02]\n",
      " [1.   1.  ]\n",
      " [0.   0.12]\n",
      " [0.   0.13]\n",
      " [1.   1.  ]\n",
      " [0.   0.  ]\n",
      " [0.   0.  ]\n",
      " [0.   0.  ]\n",
      " [1.   0.99]\n",
      " [1.   0.99]\n",
      " [1.   1.  ]\n",
      " [0.   0.  ]\n",
      " [0.   0.01]\n",
      " [0.   0.07]\n",
      " [1.   0.99]\n",
      " [0.   0.07]\n",
      " [0.   0.01]\n",
      " [0.   0.12]\n",
      " [0.   0.01]\n",
      " [0.   0.02]\n",
      " [0.   0.  ]\n",
      " [1.   1.  ]\n",
      " [0.   0.25]\n",
      " [0.   0.  ]\n",
      " [0.   0.06]\n",
      " [0.   0.  ]\n",
      " [1.   0.99]\n",
      " [0.   0.15]\n",
      " [1.   0.99]\n",
      " [1.   0.99]\n",
      " [0.   0.  ]\n",
      " [1.   0.74]\n",
      " [0.   0.  ]\n",
      " [1.   0.96]\n",
      " [0.   0.  ]\n",
      " [0.   0.01]\n",
      " [1.   0.99]\n",
      " [1.   0.99]\n",
      " [0.   0.  ]\n",
      " [0.   0.02]\n",
      " [1.   1.  ]\n",
      " [0.   0.05]\n",
      " [0.   0.  ]\n",
      " [0.   0.01]\n",
      " [1.   0.99]\n",
      " [0.   0.01]]\n",
      "loss_test: 0.03419728164903332\n",
      "mse_test: 0.0044020000000000005\n",
      "loss_train: 0.023328958817476125\n",
      "mse_train: 0.0023246666666666667\n"
     ]
    }
   ],
   "source": [
    "# mean squared error for yh_test and y_test\n",
    "def mse(y, yh):\n",
    "    return np.sum((y - yh) ** 2) / y.shape[0]\n",
    "\n",
    "#1 testing model accuracy, loss, mse for test and train splits\n",
    "x_test = BNK_TEST[:, :7]\n",
    "y_test = BNK_TEST[:, 7]\n",
    "yh_test = predict(w, x_test)\n",
    "\n",
    "x_train = BNK_TRAIN[:, :7]\n",
    "y_train = BNK_TRAIN[:, 7]\n",
    "yh_train = predict(w, x_train)\n",
    "\n",
    "print(f'y_test: yh_test\\n{np.column_stack((y_test,yh_test))}')\n",
    "print(f'loss_test: {loss(x_test,y_test,w)}\\nmse_test: {mse(y_test, yh_test)}')\n",
    "print(f'loss_train: {loss(x_train,y_train,w)}\\nmse_train: {mse(y_train, yh_train)}')\n"
   ]
  },
  {
   "cell_type": "code",
   "execution_count": 66,
   "metadata": {},
   "outputs": [
    {
     "name": "stdout",
     "output_type": "stream",
     "text": [
      "features and their weights:\n",
      "{'industrial risk': -0.10960863630974454, 'management risk': -0.38073033190003547, 'financial flexibility': -1.7004440867260784, 'credibility': -2.0184721231358456, 'competitiveness': -2.910470127193261, 'operating risk': -0.20622939519736752}\n"
     ]
    }
   ],
   "source": [
    "#2 weights parameters and features\n",
    "features_weights = {fe:we for fe,we in zip([\"industrial risk\", \"management risk\", \"financial flexibility\", \"credibility\", \"competitiveness\", \"operating risk\"], w[1:])}\n",
    "print(f'features and their weights:\\n{features_weights}')\n",
    "\n",
    "# the absolute value of the weights for each of the features indicate how sensitive the model is to the particular parameter, \n",
    "# for example competitiveness has a relativley larger effect on the bankrupcty / classification as its weight is -2.91\n",
    "# the sign of the weights indicates which way the parameter sways the classification, - : less bankruptcy risk + ; more bankrupcty risk\n"
   ]
  },
  {
   "cell_type": "code",
   "execution_count": 67,
   "metadata": {},
   "outputs": [
    {
     "data": {
      "image/png": "[encoded data removed]",
      "text/plain": [
       "<Figure size 897.12x504 with 1 Axes>"
      ]
     },
     "metadata": {
      "needs_background": "light"
     },
     "output_type": "display_data"
    }
   ],
   "source": [
    "#3 effect of size of training data\n",
    "plt.rcParams[\"figure.figsize\"] = (12.46, 7)\n",
    "percents = np.linspace(0.1, 0.9, 9)\n",
    "losses_train, losses_test = [], []\n",
    "for p in percents:\n",
    "    end = int(p * 250)\n",
    "    start = 250 - end\n",
    "    x = BNK_DATA[:end, :7]\n",
    "    y = BNK_DATA[:end, 7]\n",
    "\n",
    "    w_train = fit(x, y)\n",
    "    loss_train = loss(x, y, w_train)\n",
    "    loss_test = loss(BNK_DATA[start:, :7], BNK_DATA[start:, 7], w_train)\n",
    "    losses_train.append(loss_train)\n",
    "    losses_test.append(loss_test)\n",
    "\n",
    "plt.title(\"effect of increasing training data splits\")\n",
    "plt.xlabel(\"% of training data\")\n",
    "plt.ylabel(\"cross entropy loss\")\n",
    "plt.plot(percents, losses_train, 'b', alpha=0.5)\n",
    "plt.plot(percents, losses_test, 'r-', alpha=0.5)\n",
    "plt.show()\n",
    "\n",
    "# the training loss in blue and testing loss in red, seem to both fall very quickly at the 60% training data split\n",
    "# overall the loss falls with increasing training data which is expected since the model has more data points to\n",
    "# optimize the loss function but we're not sure why the loss seems to drop so suddenly between the 0.5 and 0.6 splits"
   ]
  },
  {
   "cell_type": "code",
   "execution_count": 68,
   "metadata": {},
   "outputs": [
    {
     "data": {
      "image/png": "[encoded data removed]",
      "text/plain": [
       "<Figure size 897.12x504 with 1 Axes>"
      ]
     },
     "metadata": {
      "needs_background": "light"
     },
     "output_type": "display_data"
    }
   ],
   "source": [
    "#4 effect of minibatch size\n",
    "batch_sizes = [8, 16, 32, 64, 128]\n",
    "losses_train, losses_test = [], []\n",
    "for b in batch_sizes:\n",
    "\n",
    "    x_train, y_train = BNK_TRAIN[:, :7], BNK_TRAIN[:, 7]\n",
    "    x_test, y_test = BNK_TEST[:, :7], BNK_TEST[:, 7]\n",
    "\n",
    "    w_train = fit(x_train, y_train, batch_size=b)\n",
    "    loss_train = loss(x_train, y_train, w_train)\n",
    "    loss_test = loss(x_test, y_test, w_train)\n",
    "    losses_train.append(loss_train)\n",
    "    losses_test.append(loss_test)\n",
    "\n",
    "plt.title(\"effect of increasing minibatch size\")\n",
    "plt.xlabel(\"batch size\")\n",
    "plt.ylabel(\"cross entropy loss\")\n",
    "plt.plot(batch_sizes, losses_train, 'b', alpha=0.5)\n",
    "plt.plot(batch_sizes, losses_test, 'r-', alpha=0.5)\n",
    "plt.show()\n",
    "\n",
    "# it seems like increasing batch size causes the train/test split to converge faster and have a lower loss overall\n",
    "# after a mini batch size of around 32, the loss for training and testing splits doesnt change much \n",
    "# the loss drops off quickly with increasing batch size when starting with small batche sizes like 8 and 16"
   ]
  },
  {
   "cell_type": "code",
   "execution_count": 69,
   "metadata": {},
   "outputs": [
    {
     "data": {
      "image/png": "[encoded data removed]",
      "text/plain": [
       "<Figure size 897.12x504 with 1 Axes>"
      ]
     },
     "metadata": {
      "needs_background": "light"
     },
     "output_type": "display_data"
    }
   ],
   "source": [
    "#5 effect of different learning rates\n",
    "learning_rates = [2, 1, 0.1, 0.01, 0.001]\n",
    "losses_train, losses_test = [], []\n",
    "for lr in learning_rates:\n",
    "\n",
    "    x_train, y_train = BNK_TRAIN[:, :7], BNK_TRAIN[:, 7]\n",
    "    x_test, y_test = BNK_TEST[:, :7], BNK_TEST[:, 7]\n",
    "\n",
    "    w_train = fit(x_train, y_train, learning_rate=lr)\n",
    "    loss_train = loss(x_train, y_train, w_train)\n",
    "    loss_test = loss(x_test, y_test, w_train)\n",
    "    losses_train.append(loss_train)\n",
    "    losses_test.append(loss_test)\n",
    "\n",
    "plt.title(\"learning rate effect on loss\")\n",
    "plt.xlabel(\"learning rate alpha\")\n",
    "plt.ylabel(\"cross entropy loss\")\n",
    "plt.plot(learning_rates, losses_train, 'b', alpha=0.5)\n",
    "plt.plot(learning_rates, losses_test, 'r-', alpha=0.5)\n",
    "plt.show()\n",
    "\n",
    "# it seems like increasing the learning rate decreasing the overall mean loss of the model, although this seems a bit odd as \n",
    "# increasing learning rate should increase the volatility of the loss as the gradient changes the weights more each iteration\n",
    "# it seems for learning rates > 1 the loss stays relativley stable and low"
   ]
  }
 ],
 "metadata": {
  "kernelspec": {
   "display_name": "Python 3.10.1 64-bit",
   "language": "python",
   "name": "python3"
  },
  "language_info": {
   "codemirror_mode": {
    "name": "ipython",
    "version": 3
   },
   "file_extension": ".py",
   "mimetype": "text/x-python",
   "name": "python",
   "nbconvert_exporter": "python",
   "pygments_lexer": "ipython3",
   "version": "3.10.1"
  },
  "orig_nbformat": 4,
  "vscode": {
   "interpreter": {
    "hash": "3b79a9603654acc1a1dda7ab9d7fbeea5670a7835087b35cd5f08522a1762abf"
   }
  }
 },
 "nbformat": 4,
 "nbformat_minor": 2
}
