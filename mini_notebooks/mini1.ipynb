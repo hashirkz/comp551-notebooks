{
 "cells": [
  {
   "cell_type": "code",
   "execution_count": 2,
   "metadata": {},
   "outputs": [
    {
     "name": "stdout",
     "output_type": "stream",
     "text": [
      "Requirement already satisfied: numpy in c:\\users\\hashi\\appdata\\local\\programs\\python\\python310\\lib\\site-packages (1.22.2)\n",
      "Note: you may need to restart the kernel to use updated packages.\n"
     ]
    },
    {
     "name": "stderr",
     "output_type": "stream",
     "text": [
      "\n",
      "[notice] A new release of pip available: 22.3.1 -> 23.0\n",
      "[notice] To update, run: python.exe -m pip install --upgrade pip\n"
     ]
    },
    {
     "name": "stdout",
     "output_type": "stream",
     "text": [
      "Requirement already satisfied: pandas in c:\\users\\hashi\\appdata\\local\\programs\\python\\python310\\lib\\site-packages (1.4.2)\n",
      "Requirement already satisfied: pytz>=2020.1 in c:\\users\\hashi\\appdata\\local\\programs\\python\\python310\\lib\\site-packages (from pandas) (2022.7.1)\n",
      "Requirement already satisfied: numpy>=1.21.0 in c:\\users\\hashi\\appdata\\local\\programs\\python\\python310\\lib\\site-packages (from pandas) (1.22.2)\n",
      "Requirement already satisfied: python-dateutil>=2.8.1 in c:\\users\\hashi\\appdata\\local\\programs\\python\\python310\\lib\\site-packages (from pandas) (2.8.2)\n",
      "Requirement already satisfied: six>=1.5 in c:\\users\\hashi\\appdata\\local\\programs\\python\\python310\\lib\\site-packages (from python-dateutil>=2.8.1->pandas) (1.16.0)\n",
      "Note: you may need to restart the kernel to use updated packages.\n"
     ]
    },
    {
     "name": "stderr",
     "output_type": "stream",
     "text": [
      "\n",
      "[notice] A new release of pip available: 22.3.1 -> 23.0\n",
      "[notice] To update, run: python.exe -m pip install --upgrade pip\n"
     ]
    },
    {
     "name": "stdout",
     "output_type": "stream",
     "text": [
      "Requirement already satisfied: matplotlib in c:\\users\\hashi\\appdata\\local\\programs\\python\\python310\\lib\\site-packages (3.5.1)\n",
      "Requirement already satisfied: numpy>=1.17 in c:\\users\\hashi\\appdata\\local\\programs\\python\\python310\\lib\\site-packages (from matplotlib) (1.22.2)\n",
      "Requirement already satisfied: packaging>=20.0 in c:\\users\\hashi\\appdata\\local\\programs\\python\\python310\\lib\\site-packages (from matplotlib) (21.3)\n",
      "Requirement already satisfied: pillow>=6.2.0 in c:\\users\\hashi\\appdata\\local\\programs\\python\\python310\\lib\\site-packages (from matplotlib) (9.1.0)\n",
      "Requirement already satisfied: fonttools>=4.22.0 in c:\\users\\hashi\\appdata\\local\\programs\\python\\python310\\lib\\site-packages (from matplotlib) (4.29.1)\n",
      "Requirement already satisfied: kiwisolver>=1.0.1 in c:\\users\\hashi\\appdata\\local\\programs\\python\\python310\\lib\\site-packages (from matplotlib) (1.3.2)\n",
      "Requirement already satisfied: cycler>=0.10 in c:\\users\\hashi\\appdata\\local\\programs\\python\\python310\\lib\\site-packages (from matplotlib) (0.11.0)\n",
      "Requirement already satisfied: pyparsing>=2.2.1 in c:\\users\\hashi\\appdata\\local\\programs\\python\\python310\\lib\\site-packages (from matplotlib) (3.0.7)\n",
      "Requirement already satisfied: python-dateutil>=2.7 in c:\\users\\hashi\\appdata\\local\\programs\\python\\python310\\lib\\site-packages (from matplotlib) (2.8.2)\n",
      "Requirement already satisfied: six>=1.5 in c:\\users\\hashi\\appdata\\local\\programs\\python\\python310\\lib\\site-packages (from python-dateutil>=2.7->matplotlib) (1.16.0)\n",
      "Note: you may need to restart the kernel to use updated packages.\n"
     ]
    },
    {
     "name": "stderr",
     "output_type": "stream",
     "text": [
      "\n",
      "[notice] A new release of pip available: 22.3.1 -> 23.0\n",
      "[notice] To update, run: python.exe -m pip install --upgrade pip\n"
     ]
    }
   ],
   "source": [
    "%pip install numpy\n",
    "%pip install pandas\n",
    "%pip install matplotlib\n",
    "\n",
    "import numpy as np\n",
    "import pandas as pd\n",
    "from matplotlib import pyplot as plt"
   ]
  },
  {
   "cell_type": "code",
   "execution_count": 3,
   "metadata": {},
   "outputs": [
    {
     "name": "stdout",
     "output_type": "stream",
     "text": [
      "     industrial risk  management risk  financial flexibility  credibility  competitiveness  operating risk  class\n",
      "0                  1                1                      0            0                0               1      0\n",
      "1                 -1               -1                      0            0                0              -1      0\n",
      "2                  0                0                      0            0                0               0      0\n",
      "3                  1                1                      1            1                1               1      0\n",
      "4                 -1               -1                      1            1                1              -1      0\n",
      "..               ...              ...                    ...          ...              ...             ...    ...\n",
      "245               -1               -1                      0           -1               -1              -1      1\n",
      "246                1               -1                     -1           -1               -1              -1      1\n",
      "247                0               -1                     -1           -1               -1              -1      1\n",
      "248               -1               -1                     -1           -1               -1              -1      1\n",
      "249                1               -1                     -1           -1                0               0      1\n",
      "\n",
      "[250 rows x 7 columns]\n"
     ]
    },
    {
     "data": {
      "text/plain": [
       "array([[ 0, -1, -1, ...,  1,  1,  0],\n",
       "       [ 0,  0,  0, ...,  1,  0,  0],\n",
       "       [ 1, -1, -1, ..., -1,  1,  1],\n",
       "       ...,\n",
       "       [ 1,  0,  1, ...,  1, -1,  0],\n",
       "       [ 0, -1, -1, ..., -1,  0,  1],\n",
       "       [ 0,  1, -1, ..., -1, -1,  1]], dtype=int64)"
      ]
     },
     "execution_count": 3,
     "metadata": {},
     "output_type": "execute_result"
    }
   ],
   "source": [
    "# reading and filtering dataset 2 bankrupcty data\n",
    "pd.set_option('display.expand_frame_repr', False)\n",
    "pd.set_option('display.precision', 2)\n",
    "BNK_DATA = pd.read_csv(\n",
    "    './data/Qualitative_Bankruptcy.data.txt', \n",
    "    sep=',',\n",
    "    names=['industrial risk', 'management risk', 'financial flexibility', 'credibility', 'competitiveness', 'operating risk', 'class'])\n",
    "\n",
    "# mapping data positive: 1, average: 0.5, negative: 0 ... classification not bankrupt: 0, bankrupt: 1\n",
    "for col in BNK_DATA:\n",
    "    BNK_DATA[col] = BNK_DATA[col].replace({\n",
    "        'P': 1, \n",
    "        'A': 0, \n",
    "        'N': -1,\n",
    "        'NB': 0,\n",
    "        'B': 1})\n",
    "\n",
    "print(BNK_DATA)\n",
    "BNK_DATA = BNK_DATA.to_numpy()\n",
    "\n",
    "# shuffling bnk_data across axis 1 before making train validation test splits\n",
    "np.random.shuffle(BNK_DATA)\n",
    "\n",
    "# 60:20:20 split\n",
    "BNK_TRAIN = BNK_DATA[:150, :]           # 150 samples for training\n",
    "BNK_VALIDATION = BNK_DATA[150:200, :]   # 50 samples for validation / hyperparameter tuning\n",
    "BNK_TEST = BNK_DATA[200:, :]            # 50 samples for testing\n",
    "BNK_TRAIN"
   ]
  },
  {
   "cell_type": "code",
   "execution_count": 4,
   "metadata": {},
   "outputs": [
    {
     "name": "stdout",
     "output_type": "stream",
     "text": [
      "instances: 250\n",
      "features: 7\n",
      "mean: -0.12666666666666668\n",
      "median: 0.0\n",
      "bankrupt: 107\n",
      "not bankrupt: 143\n"
     ]
    }
   ],
   "source": [
    "# bankrupcty dataset stats\n",
    "n, d = BNK_DATA.shape\n",
    "print(f'instances: {n}\\nfeatures: {d}\\nmean: {np.mean(BNK_DATA[:, :-1].flatten())}\\nmedian: {np.median(BNK_DATA.flatten())}')\n",
    "print(f'bankrupt: {sum(BNK_DATA[:, 6])}\\nnot bankrupt: {250-sum(BNK_DATA[:, 6])}')\n",
    "\n",
    "n_train, d_train = BNK_TRAIN.shape\n",
    "n_test, d_test = BNK_TEST.shape\n",
    "n_validation, d_validation = BNK_VALIDATION.shape\n",
    "# adding ones column for bias\n",
    "BNK_TRAIN = np.column_stack((np.ones(n_train),BNK_TRAIN))\n",
    "BNK_TEST = np.column_stack((np.ones(n_test),BNK_TEST))\n",
    "BNK_VALIDATION = np.column_stack((np.ones(n_validation),BNK_VALIDATION))"
   ]
  },
  {
   "cell_type": "code",
   "execution_count": 5,
   "metadata": {},
   "outputs": [
    {
     "name": "stdout",
     "output_type": "stream",
     "text": [
      "    y: yh\n",
      "[[0.   0.02]\n",
      " [0.   0.07]\n",
      " [1.   1.  ]\n",
      " [0.   0.34]\n",
      " [0.   0.  ]\n",
      " [0.   0.  ]\n",
      " [0.   0.  ]\n",
      " [0.   0.03]\n",
      " [1.   0.99]\n",
      " [0.   0.  ]\n",
      " [0.   0.  ]\n",
      " [1.   0.99]\n",
      " [0.   0.  ]\n",
      " [1.   0.96]\n",
      " [1.   0.99]\n",
      " [0.   0.  ]\n",
      " [1.   0.93]\n",
      " [1.   0.99]\n",
      " [0.   0.25]\n",
      " [1.   1.  ]\n",
      " [1.   0.99]\n",
      " [0.   0.01]\n",
      " [1.   0.98]\n",
      " [0.   0.01]\n",
      " [0.   0.01]\n",
      " [1.   0.99]\n",
      " [0.   0.01]\n",
      " [1.   0.98]\n",
      " [0.   0.03]\n",
      " [1.   0.99]\n",
      " [0.   0.18]\n",
      " [1.   1.  ]\n",
      " [1.   0.98]\n",
      " [1.   0.99]\n",
      " [1.   1.  ]\n",
      " [1.   0.99]\n",
      " [0.   0.  ]\n",
      " [1.   0.33]\n",
      " [0.   0.  ]\n",
      " [1.   1.  ]\n",
      " [0.   0.01]\n",
      " [0.   0.01]\n",
      " [0.   0.  ]\n",
      " [1.   1.  ]\n",
      " [1.   0.99]\n",
      " [0.   0.01]\n",
      " [1.   0.99]\n",
      " [0.   0.18]\n",
      " [1.   0.8 ]\n",
      " [0.   0.03]]\n",
      "loss: 0.059083249406021415\n"
     ]
    }
   ],
   "source": [
    "# logistic squishification function\n",
    "logistic = lambda z : 1. / (1 + np.exp(-z))\n",
    "\n",
    "#cross entropy loss function \n",
    "# w: weight column vector   D x 1\n",
    "# x: feature matrix         N x D\n",
    "# y: expected labels        N x 1\n",
    "# yh: predicted labels       N x 1\n",
    "# yh = x @ w\n",
    "def loss(x, y, w):\n",
    "    N, D = x.shape                                                       \n",
    "    z = np.dot(x, w)\n",
    "    return np.mean(y * np.log1p(np.exp(-z)) + (1-y) * np.log1p(np.exp(z)))  #log1p calculates log(1+x) to remove floating point inaccuracies \n",
    "\n",
    "# gradient descent\n",
    "# w: weight column vector   D x 1\n",
    "# x: feature matrix         N x D\n",
    "# y: expected labels        N x 1\n",
    "# yh: predicted labels       N x 1\n",
    "def gradient(w, x, y):\n",
    "    n, d = x.shape\n",
    "    yh = logistic(np.dot(x, w))\n",
    "    return np.dot(x.T, yh - y) / n\n",
    "\n",
    "def fit(x, y, learning_rate: int=0.09, epsilon: int=0.001, max_iters: int=1000):\n",
    "    n, d = x.shape\n",
    "    w = np.zeros(d)\n",
    "    g = np.inf \n",
    "    t = 0\n",
    "    # the code snippet below is for gradient descent\n",
    "    while np.linalg.norm(g) > epsilon and t < max_iters:\n",
    "        g = gradient(w, x, y)\n",
    "        w = w - learning_rate * g \n",
    "        t += 1\n",
    "\n",
    "    return w\n",
    "    \n",
    "def predict(w, x):\n",
    "    yh = logistic(np.dot(x, w))\n",
    "    return np.array([round(num, 2) for num in yh])\n",
    "\n",
    "x = BNK_TRAIN[:, :7]\n",
    "y = BNK_TRAIN[:, 7]\n",
    "# print(x)\n",
    "# print(y)\n",
    "\n",
    "\n",
    "w = fit(x, y)\n",
    "\n",
    "x = BNK_TEST[:, :7]\n",
    "yh = predict(w, x)\n",
    "y = BNK_TEST[:, 7]\n",
    "\n",
    "print(f'    y: yh\\n{np.column_stack((y,yh))}')\n",
    "print(f'loss: {loss(x,y,w)}')"
   ]
  }
 ],
 "metadata": {
  "kernelspec": {
   "display_name": "Python 3.10.1 64-bit",
   "language": "python",
   "name": "python3"
  },
  "language_info": {
   "codemirror_mode": {
    "name": "ipython",
    "version": 3
   },
   "file_extension": ".py",
   "mimetype": "text/x-python",
   "name": "python",
   "nbconvert_exporter": "python",
   "pygments_lexer": "ipython3",
   "version": "3.10.1"
  },
  "orig_nbformat": 4,
  "vscode": {
   "interpreter": {
    "hash": "3b79a9603654acc1a1dda7ab9d7fbeea5670a7835087b35cd5f08522a1762abf"
   }
  }
 },
 "nbformat": 4,
 "nbformat_minor": 2
}
