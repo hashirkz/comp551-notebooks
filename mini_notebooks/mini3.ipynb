{
 "cells": [
  {
   "cell_type": "code",
   "execution_count": 2,
   "metadata": {},
   "outputs": [
    {
     "name": "stdout",
     "output_type": "stream",
     "text": [
      "Requirement already satisfied: numpy in c:\\users\\hashi\\appdata\\local\\programs\\python\\python310\\lib\\site-packages (1.22.2)\n",
      "Note: you may need to restart the kernel to use updated packages.\n",
      "Requirement already satisfied: pandas in c:\\users\\hashi\\appdata\\local\\programs\\python\\python310\\lib\\site-packages (1.4.2)\n",
      "Requirement already satisfied: python-dateutil>=2.8.1 in c:\\users\\hashi\\appdata\\local\\programs\\python\\python310\\lib\\site-packages (from pandas) (2.8.2)\n",
      "Requirement already satisfied: pytz>=2020.1 in c:\\users\\hashi\\appdata\\local\\programs\\python\\python310\\lib\\site-packages (from pandas) (2022.7.1)\n",
      "Requirement already satisfied: numpy>=1.21.0 in c:\\users\\hashi\\appdata\\local\\programs\\python\\python310\\lib\\site-packages (from pandas) (1.22.2)\n",
      "Requirement already satisfied: six>=1.5 in c:\\users\\hashi\\appdata\\local\\programs\\python\\python310\\lib\\site-packages (from python-dateutil>=2.8.1->pandas) (1.16.0)\n",
      "Note: you may need to restart the kernel to use updated packages.\n",
      "Requirement already satisfied: scipy in c:\\users\\hashi\\appdata\\local\\programs\\python\\python310\\lib\\site-packages (1.8.0)\n",
      "Requirement already satisfied: numpy<1.25.0,>=1.17.3 in c:\\users\\hashi\\appdata\\local\\programs\\python\\python310\\lib\\site-packages (from scipy) (1.22.2)\n",
      "Note: you may need to restart the kernel to use updated packages.\n",
      "Requirement already satisfied: matplotlib in c:\\users\\hashi\\appdata\\local\\programs\\python\\python310\\lib\\site-packages (3.5.1)\n",
      "Requirement already satisfied: pyparsing>=2.2.1 in c:\\users\\hashi\\appdata\\local\\programs\\python\\python310\\lib\\site-packages (from matplotlib) (3.0.7)\n",
      "Requirement already satisfied: kiwisolver>=1.0.1 in c:\\users\\hashi\\appdata\\local\\programs\\python\\python310\\lib\\site-packages (from matplotlib) (1.3.2)\n",
      "Requirement already satisfied: numpy>=1.17 in c:\\users\\hashi\\appdata\\local\\programs\\python\\python310\\lib\\site-packages (from matplotlib) (1.22.2)\n",
      "Requirement already satisfied: pillow>=6.2.0 in c:\\users\\hashi\\appdata\\local\\programs\\python\\python310\\lib\\site-packages (from matplotlib) (9.1.0)\n",
      "Requirement already satisfied: cycler>=0.10 in c:\\users\\hashi\\appdata\\local\\programs\\python\\python310\\lib\\site-packages (from matplotlib) (0.11.0)\n",
      "Requirement already satisfied: python-dateutil>=2.7 in c:\\users\\hashi\\appdata\\local\\programs\\python\\python310\\lib\\site-packages (from matplotlib) (2.8.2)\n",
      "Requirement already satisfied: packaging>=20.0 in c:\\users\\hashi\\appdata\\local\\programs\\python\\python310\\lib\\site-packages (from matplotlib) (21.3)\n",
      "Requirement already satisfied: fonttools>=4.22.0 in c:\\users\\hashi\\appdata\\local\\programs\\python\\python310\\lib\\site-packages (from matplotlib) (4.29.1)\n",
      "Requirement already satisfied: six>=1.5 in c:\\users\\hashi\\appdata\\local\\programs\\python\\python310\\lib\\site-packages (from python-dateutil>=2.7->matplotlib) (1.16.0)\n",
      "Note: you may need to restart the kernel to use updated packages.\n",
      "Requirement already satisfied: scikit-learn in c:\\users\\hashi\\appdata\\local\\programs\\python\\python310\\lib\\site-packages (1.2.1)\n",
      "Requirement already satisfied: numpy>=1.17.3 in c:\\users\\hashi\\appdata\\local\\programs\\python\\python310\\lib\\site-packages (from scikit-learn) (1.22.2)\n",
      "Requirement already satisfied: scipy>=1.3.2 in c:\\users\\hashi\\appdata\\local\\programs\\python\\python310\\lib\\site-packages (from scikit-learn) (1.8.0)\n",
      "Requirement already satisfied: joblib>=1.1.1 in c:\\users\\hashi\\appdata\\local\\programs\\python\\python310\\lib\\site-packages (from scikit-learn) (1.2.0)\n",
      "Requirement already satisfied: threadpoolctl>=2.0.0 in c:\\users\\hashi\\appdata\\local\\programs\\python\\python310\\lib\\site-packages (from scikit-learn) (3.1.0)\n",
      "Note: you may need to restart the kernel to use updated packages.\n"
     ]
    }
   ],
   "source": [
    "%pip install numpy\n",
    "%pip install pandas\n",
    "%pip install matplotlib\n",
    "%pip install scikit-learn\n",
    "\n",
    "import numpy as np\n",
    "import pandas as pd\n",
    "from sklearn.feature_extraction.text import CountVectorizer\n",
    "from matplotlib import pyplot as plt\n",
    "\n",
    "import os "
   ]
  },
  {
   "cell_type": "code",
   "execution_count": 15,
   "metadata": {},
   "outputs": [
    {
     "name": "stdout",
     "output_type": "stream",
     "text": [
      "(12500,)\n"
     ]
    }
   ],
   "source": [
    "# reading imbd review data from http://ai.stanford.edu/~amaas/data/sentiment/\n",
    "\n",
    "# reads the .txt files under dir and returns an ndarray of the documents\n",
    "def read_docs(dir: str) -> np.ndarray:\n",
    "    try:\n",
    "        documents = []\n",
    "        for filepath in sorted(os.listdir(dir), key=lambda name : int(name.split('_')[0])):\n",
    "            with open(f'{dir}/{filepath}', 'r', encoding='utf8') as txtfile:\n",
    "                txt = txtfile.read()\n",
    "                documents.append(txt)\n",
    "        \n",
    "            # print(f'current_file: {filepath:<20}')\n",
    "        return np.array(documents, dtype=str)\n",
    "\n",
    "    except FileNotFoundError as e:\n",
    "        print(f'{e}: unable to read directory {dir}')\n",
    "\n",
    "docs = read_docs('./aclImdb/train/neg')\n",
    "print(docs.shape)\n",
    "print(docs[30])\n",
    "# vectorizer = CountVectorizer()\n",
    "# X_TRAIN = vectorizer.fit_transform()"
   ]
  },
  {
   "cell_type": "code",
   "execution_count": 9,
   "metadata": {},
   "outputs": [
    {
     "name": "stdout",
     "output_type": "stream",
     "text": [
      "True\n"
     ]
    }
   ],
   "source": [
    "print('1_1.txt' > '10000_1.txt')"
   ]
  }
 ],
 "metadata": {
  "kernelspec": {
   "display_name": "Python 3.10.1 64-bit",
   "language": "python",
   "name": "python3"
  },
  "language_info": {
   "codemirror_mode": {
    "name": "ipython",
    "version": 3
   },
   "file_extension": ".py",
   "mimetype": "text/x-python",
   "name": "python",
   "nbconvert_exporter": "python",
   "pygments_lexer": "ipython3",
   "version": "3.10.1"
  },
  "orig_nbformat": 4,
  "vscode": {
   "interpreter": {
    "hash": "3b79a9603654acc1a1dda7ab9d7fbeea5670a7835087b35cd5f08522a1762abf"
   }
  }
 },
 "nbformat": 4,
 "nbformat_minor": 2
}
