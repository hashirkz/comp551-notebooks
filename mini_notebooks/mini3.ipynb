{
 "cells": [
  {
   "cell_type": "code",
   "execution_count": 1,
   "metadata": {},
   "outputs": [
    {
     "name": "stdout",
     "output_type": "stream",
     "text": [
      "Requirement already satisfied: numpy in c:\\users\\hashi\\appdata\\local\\programs\\python\\python310\\lib\\site-packages (1.22.2)\n",
      "Note: you may need to restart the kernel to use updated packages.\n",
      "Requirement already satisfied: pandas in c:\\users\\hashi\\appdata\\local\\programs\\python\\python310\\lib\\site-packages (1.4.2)\n",
      "Requirement already satisfied: python-dateutil>=2.8.1 in c:\\users\\hashi\\appdata\\local\\programs\\python\\python310\\lib\\site-packages (from pandas) (2.8.2)\n",
      "Requirement already satisfied: pytz>=2020.1 in c:\\users\\hashi\\appdata\\local\\programs\\python\\python310\\lib\\site-packages (from pandas) (2022.7.1)\n",
      "Requirement already satisfied: numpy>=1.21.0 in c:\\users\\hashi\\appdata\\local\\programs\\python\\python310\\lib\\site-packages (from pandas) (1.22.2)\n",
      "Requirement already satisfied: six>=1.5 in c:\\users\\hashi\\appdata\\local\\programs\\python\\python310\\lib\\site-packages (from python-dateutil>=2.8.1->pandas) (1.16.0)\n",
      "Note: you may need to restart the kernel to use updated packages.\n",
      "Requirement already satisfied: matplotlib in c:\\users\\hashi\\appdata\\local\\programs\\python\\python310\\lib\\site-packages (3.5.1)\n",
      "Requirement already satisfied: packaging>=20.0 in c:\\users\\hashi\\appdata\\local\\programs\\python\\python310\\lib\\site-packages (from matplotlib) (21.3)\n",
      "Requirement already satisfied: numpy>=1.17 in c:\\users\\hashi\\appdata\\local\\programs\\python\\python310\\lib\\site-packages (from matplotlib) (1.22.2)\n",
      "Requirement already satisfied: fonttools>=4.22.0 in c:\\users\\hashi\\appdata\\local\\programs\\python\\python310\\lib\\site-packages (from matplotlib) (4.29.1)\n",
      "Requirement already satisfied: cycler>=0.10 in c:\\users\\hashi\\appdata\\local\\programs\\python\\python310\\lib\\site-packages (from matplotlib) (0.11.0)\n",
      "Requirement already satisfied: pyparsing>=2.2.1 in c:\\users\\hashi\\appdata\\local\\programs\\python\\python310\\lib\\site-packages (from matplotlib) (3.0.7)\n",
      "Requirement already satisfied: pillow>=6.2.0 in c:\\users\\hashi\\appdata\\local\\programs\\python\\python310\\lib\\site-packages (from matplotlib) (9.1.0)\n",
      "Requirement already satisfied: python-dateutil>=2.7 in c:\\users\\hashi\\appdata\\local\\programs\\python\\python310\\lib\\site-packages (from matplotlib) (2.8.2)\n",
      "Requirement already satisfied: kiwisolver>=1.0.1 in c:\\users\\hashi\\appdata\\local\\programs\\python\\python310\\lib\\site-packages (from matplotlib) (1.3.2)\n",
      "Requirement already satisfied: six>=1.5 in c:\\users\\hashi\\appdata\\local\\programs\\python\\python310\\lib\\site-packages (from python-dateutil>=2.7->matplotlib) (1.16.0)\n",
      "Note: you may need to restart the kernel to use updated packages.\n",
      "Requirement already satisfied: scikit-learn in c:\\users\\hashi\\appdata\\local\\programs\\python\\python310\\lib\\site-packages (1.2.1)\n",
      "Requirement already satisfied: scipy>=1.3.2 in c:\\users\\hashi\\appdata\\local\\programs\\python\\python310\\lib\\site-packages (from scikit-learn) (1.8.0)\n",
      "Requirement already satisfied: numpy>=1.17.3 in c:\\users\\hashi\\appdata\\local\\programs\\python\\python310\\lib\\site-packages (from scikit-learn) (1.22.2)\n",
      "Requirement already satisfied: joblib>=1.1.1 in c:\\users\\hashi\\appdata\\local\\programs\\python\\python310\\lib\\site-packages (from scikit-learn) (1.2.0)\n",
      "Requirement already satisfied: threadpoolctl>=2.0.0 in c:\\users\\hashi\\appdata\\local\\programs\\python\\python310\\lib\\site-packages (from scikit-learn) (3.1.0)\n",
      "Note: you may need to restart the kernel to use updated packages.\n",
      "Requirement already satisfied: keras in c:\\users\\hashi\\appdata\\local\\programs\\python\\python310\\lib\\site-packages (2.9.0)\n",
      "Note: you may need to restart the kernel to use updated packages.\n"
     ]
    }
   ],
   "source": [
    "%pip install numpy\n",
    "%pip install pandas\n",
    "%pip install matplotlib\n",
    "%pip install scikit-learn\n",
    "%pip install keras\n",
    "\n",
    "import numpy as np\n",
    "import pandas as pd\n",
    "from sklearn import naive_bayes \n",
    "from sklearn.feature_extraction.text import CountVectorizer\n",
    "from keras.datasets import imdb\n",
    "from matplotlib import pyplot as plt\n",
    "\n",
    "import os "
   ]
  },
  {
   "cell_type": "code",
   "execution_count": 2,
   "metadata": {},
   "outputs": [],
   "source": [
    "# reading imbd review data from http://ai.stanford.edu/~amaas/data/sentiment/\n",
    "\n",
    "# not needed can import the dataset as bow rep from keras instead\n",
    "# reads the .txt files under dir and returns an ndarray of the documents\n",
    "def read_docs(dir: str) -> np.ndarray:\n",
    "    try:\n",
    "        documents = []\n",
    "        for filepath in sorted(os.listdir(dir), key=lambda name : int(name.split('_')[0])):\n",
    "            with open(f'{dir}/{filepath}', 'r', encoding='utf8') as txtfile:\n",
    "                txt = txtfile.read()\n",
    "                documents.append(txt)\n",
    "        \n",
    "        return np.array(documents, dtype=str)\n",
    "\n",
    "    except FileNotFoundError as e:\n",
    "        print(f'{e}: unable to read directory {dir}')\n",
    "\n",
    "x_train = np.concatenate((read_docs('./aclImdb/train/neg'), read_docs('./aclImdb/train/pos')))\n",
    "vectorizer = CountVectorizer(binary=True, max_features=1000)\n",
    "vectorizer.fit(x_train)\n",
    "x_train = vectorizer.transform(x_train).toarray()\n",
    "\n",
    "# using 0 pos 1 as neg for the classes\n",
    "y_train = np.concatenate((np.ones(12500), np.zeros(12500)))\n",
    "\n",
    "x_test = np.concatenate((read_docs('./aclImdb/test/neg'), read_docs('./aclImdb/test/pos')))\n",
    "x_test = vectorizer.transform(x_test).toarray()\n",
    "\n",
    "# using 0 pos 1 as neg for the classes\n",
    "y_test = np.concatenate((np.ones(12500), np.zeros(12500)))\n",
    "\n",
    "# read imdb data \n",
    "# imdb data is already in bow representation \n",
    "# train, test = imdb.load_data()\n",
    "# x_train, y_train = train\n",
    "# x_test, y_test = test\n",
    "# print(x_train[0], y_train.shape)\n"
   ]
  },
  {
   "cell_type": "code",
   "execution_count": 3,
   "metadata": {},
   "outputs": [
    {
     "name": "stdout",
     "output_type": "stream",
     "text": [
      "x_train:\n",
      "[[0 0 0 ... 0 0 0]\n",
      " [0 0 0 ... 0 0 0]\n",
      " [1 1 0 ... 0 0 0]\n",
      " ...\n",
      " [0 0 0 ... 0 0 0]\n",
      " [0 0 0 ... 0 0 0]\n",
      " [1 0 0 ... 1 0 0]]\n",
      " x_train_dim: (25000, 1000)\n",
      "y_train:\n",
      "[1. 1. 1. ... 0. 0. 0.]\n",
      " y_train_dim: (25000,)\n"
     ]
    }
   ],
   "source": [
    "# looking at statistics of the train and test data\n",
    "print(f'x_train:\\n{x_train}\\n x_train_dim: {x_train.shape}')\n",
    "print(f'y_train:\\n{y_train}\\n y_train_dim: {y_train.shape}')\n",
    "\n",
    "\n",
    "\n"
   ]
  },
  {
   "cell_type": "code",
   "execution_count": 4,
   "metadata": {},
   "outputs": [
    {
     "name": "stdout",
     "output_type": "stream",
     "text": [
      "y, yh:\n",
      "[1. 1. 1. ... 0. 0. 0.], [1. 1. 1. ... 0. 1. 0.]\n",
      "accuracy: 0.8322\n"
     ]
    }
   ],
   "source": [
    "# train mnb using multinomial naive bayes from sklearn 0.832 accuracy on test data\n",
    "mnb = naive_bayes.MultinomialNB()\n",
    "mnb = mnb.fit(x_train, y_train)\n",
    "yh = mnb.predict(x_test)\n",
    "acc = mnb.score(x_test, y_test)\n",
    "print(f'y, yh:\\n{y_test.T}, {yh.T}\\naccuracy: {acc}')\n"
   ]
  },
  {
   "cell_type": "code",
   "execution_count": 13,
   "metadata": {},
   "outputs": [],
   "source": [
    "# implementation for naive bayes from scratch\n",
    "\n",
    "# multinomial naive bayes model\n",
    "# using multinomial since features are word frequencies so disecrete but not binary\n",
    "class multinomial_nb:\n",
    "\n",
    "    def __init__(self):\n",
    "        return\n",
    "    \n",
    "    # updates self.pi, and self.theta model parameters based on x: features y: labels\n",
    "    # N: number of examples\n",
    "    # D: number of features\n",
    "    # C: number of classes here 2\n",
    "    # x: N x D \n",
    "    # pi: 1/2 since half the documents are pos half are neg in the training\n",
    "    # theta 2 x D\n",
    "    def fit(self, x: np.ndarray, y:np.ndarray, a: int=1):\n",
    "        N, D = x.shape          \n",
    "        C = int(np.max(y)) + 1\n",
    "        theta = np.zeros((C, D))\n",
    "        Nc = np.zeros(C)\n",
    "\n",
    "        for c in range(C):\n",
    "            x_c = x[y==c]               # find all rows part of class c\n",
    "            Nc[c] = x_c.shape[0]        # num elements in x in class c\n",
    "\n",
    "            # using laplace smoothing so add a to numerator and D to denominator \n",
    "            # find the mle of xdc / sum of word counts \n",
    "            theta[c, :] = (np.sum(x_c, axis=0) + a)/ (np.sum(x_c) + D)          \n",
    "\n",
    "        #laplace smoothing (using alpha_c=1 for all c) you can derive using dirichlet's distribution\n",
    "        self.pi = (Nc+1)/(N+C)                        \n",
    "        self.theta = theta\n",
    "\n",
    "        # return mnb to allow . chaining *not important really\n",
    "        return self\n",
    "\n",
    "    @staticmethod\n",
    "    def logsumexp(Z):                                                \n",
    "        Zmax = np.max(Z,axis=0)[None,:]                                 # dimension C x N \n",
    "        log_sum_exp = Zmax + np.log(np.sum(np.exp(Z - Zmax), axis=0))   # max over C\n",
    "    \n",
    "        return log_sum_exp\n",
    "   \n",
    "    def predict(self, x: np.ndarray) -> np.ndarray:\n",
    "        N, D = x.shape\n",
    "        log_prior = np.log(self.pi)\n",
    "        log_likelihood = x @ np.log(self.theta.T) + (1 - x) @ np.log(1 - self.theta.T)\n",
    "        log_posterior = log_prior + log_likelihood\n",
    "        posterior = np.exp(log_posterior - self.logsumexp(log_posterior))\n",
    "        return np.argmax(posterior, axis=1).reshape(-1, 1)\n",
    "\n",
    "    @staticmethod\n",
    "    def accuracy(y:np.ndarray, yh: np.ndarray):\n",
    "        return yh[yh==y].shape[0] / yh.shape[0]      # acc = num 0 entries in y-yh / num entries in y-yh\n"
   ]
  },
  {
   "cell_type": "code",
   "execution_count": 24,
   "metadata": {},
   "outputs": [
    {
     "name": "stdout",
     "output_type": "stream",
     "text": [
      "y, yh:\n",
      "[[1. 1.]\n",
      " [1. 1.]\n",
      " [1. 1.]\n",
      " ...\n",
      " [0. 0.]\n",
      " [0. 1.]\n",
      " [0. 0.]]\n",
      "acc: 0.762\n",
      "mnb2.theta loglik: [[0.00153007 0.00024739 0.00020975 ... 0.00151393 0.00166452 0.00034509]\n",
      " [0.00146016 0.0003186  0.00030123 ... 0.00089502 0.00209735 0.00045489]]\n",
      "min: 6.184801880179772e-05, max: 0.011098582156577672\n"
     ]
    },
    {
     "data": {
      "image/png": "[encoded data removed]",
      "text/plain": [
       "<Figure size 432x288 with 1 Axes>"
      ]
     },
     "metadata": {
      "needs_background": "light"
     },
     "output_type": "display_data"
    }
   ],
   "source": [
    "# train mnb classifier using my implementation with 0.762 accuracy on test data\n",
    "mnb2 = multinomial_nb()\n",
    "\n",
    "mnb2.fit(x_train, y_train)\n",
    "yh = mnb2.predict(x_test)\n",
    "yh = yh.reshape(25000,)\n",
    "yyh = np.column_stack((y_test, yh))\n",
    "acc = multinomial_nb.accuracy(y_test, yh)\n",
    "print(f'y, yh:\\n{yyh}\\nacc: {acc}')\n",
    "# np.savetxt('./temp.csv', yyh, delimiter=',', fmt='%d')\n",
    "\n",
    "# displaying the log liklihood as a heatmap\n",
    "fix, ax = plt.subplots()\n",
    "print(f'mnb2.theta loglik:\\n{mnb2.theta}\\nmin: {np.min(mnb2.theta)}, max: {np.max(mnb2.theta)}, mean: {np.mean(mnb2.theta)}')\n",
    "im = ax.imshow(mnb2.theta.reshape((40, 50)), cmap=plt.cm.RdYlGn)\n",
    "\n",
    "\n"
   ]
  }
 ],
 "metadata": {
  "kernelspec": {
   "display_name": "Python 3.10.1 64-bit",
   "language": "python",
   "name": "python3"
  },
  "language_info": {
   "codemirror_mode": {
    "name": "ipython",
    "version": 3
   },
   "file_extension": ".py",
   "mimetype": "text/x-python",
   "name": "python",
   "nbconvert_exporter": "python",
   "pygments_lexer": "ipython3",
   "version": "3.10.1"
  },
  "orig_nbformat": 4,
  "vscode": {
   "interpreter": {
    "hash": "3b79a9603654acc1a1dda7ab9d7fbeea5670a7835087b35cd5f08522a1762abf"
   }
  }
 },
 "nbformat": 4,
 "nbformat_minor": 2
}
