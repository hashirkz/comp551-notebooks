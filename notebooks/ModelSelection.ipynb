{
  "nbformat": 4,
  "nbformat_minor": 0,
  "metadata": {
    "kernelspec": {
      "display_name": "Python 3",
      "language": "python",
      "name": "python3"
    },
    "language_info": {
      "codemirror_mode": {
        "name": "ipython",
        "version": 3
      },
      "file_extension": ".py",
      "mimetype": "text/x-python",
      "name": "python",
      "nbconvert_exporter": "python",
      "pygments_lexer": "ipython3",
      "version": "3.8.5"
    },
    "colab": {
      "name": "ModelSelection.ipynb",
      "provenance": []
    }
  },
  "cells": [
    {
      "cell_type": "markdown",
      "metadata": {
        "id": "3vXHJ3nZ9i_h"
      },
      "source": [
        "[![Open In Colab](https://colab.research.google.com/assets/colab-badge.svg)](https://colab.research.google.com/github/mravanba/comp551-notebooks/blob/master/Evaluation.ipynb)\n",
        "\n",
        "# Model Evaluation and Selection\n",
        "Once we train our model on our dataset, we may hope that it also works well on unseen data. However, getting the best performance on our data is not a good measure. Instead of importing our implementation of `KNN`, to keep things simple, let's use `scikit-learn`'s implementation."
      ]
    },
    {
      "cell_type": "code",
      "metadata": {
        "id": "qC-pz4jP9i_i"
      },
      "source": [
        "import numpy as np\n",
        "%matplotlib notebook\n",
        "%matplotlib inline\n",
        "import matplotlib.pyplot as plt\n",
        "from IPython.core.debugger import set_trace\n",
        "import warnings\n",
        "warnings.filterwarnings('ignore')\n",
        "from sklearn import datasets, neighbors\n",
        "np.random.seed(1234)"
      ],
      "execution_count": 7,
      "outputs": []
    },
    {
      "cell_type": "markdown",
      "metadata": {
        "id": "KgKRLXkm9i_m"
      },
      "source": [
        "let's set aside 20% of the examples to test the performance of our model as we change the number of neighbours `K` in KNN regression."
      ]
    },
    {
      "cell_type": "code",
      "metadata": {
        "id": "HpmaPA2VKYJE",
        "outputId": "dd3d54f2-3d59-40c7-840b-645815e74907",
        "colab": {
          "base_uri": "https://localhost:8080/",
          "height": 34
        }
      },
      "source": [
        "#Loading the california housing data set\n",
        "x, y = datasets.fetch_california_housing(return_X_y=True)\n",
        "(num_instances, num_features), num_classes = x.shape, np.max(y)+1\n",
        "print(num_instances, num_features, num_classes)\n",
        "\n",
        "#define a function for the MSE loss\n",
        "loss = lambda y, yh: np.mean((y-yh)**2)"
      ],
      "execution_count": 8,
      "outputs": [
        {
          "output_type": "stream",
          "text": [
            "20640 8 6.00001\n"
          ],
          "name": "stdout"
        }
      ]
    },
    {
      "cell_type": "code",
      "metadata": {
        "id": "zlazt1kp9i_m",
        "outputId": "faeeab9a-c621-4e94-d972-2f57105d04a9",
        "colab": {
          "base_uri": "https://localhost:8080/",
          "height": 279
        }
      },
      "source": [
        "#Data split\n",
        "n_test = num_instances // 5\n",
        "inds = np.random.permutation(num_instances)\n",
        "x_train, y_train = x[inds[n_test:]], y[inds[n_test:]]\n",
        "x_test, y_test = x[inds[:n_test]], y[inds[:n_test]]\n",
        "\n",
        "#Plot the mean square error for different K values stored in K_list\n",
        "K_list = range(1,100)\n",
        "err_train, err_test = [], []\n",
        "for i, K in enumerate(K_list):\n",
        "    model = neighbors.KNeighborsRegressor(n_neighbors=K)\n",
        "    model = model.fit(x_train, y_train)\n",
        "    err_test.append(loss(model.predict(x_test), y_test))\n",
        "    err_train.append(loss(model.predict(x_train), y_train))\n",
        "\n",
        "plt.plot(K_list, err_test, '-', label='unseen')\n",
        "plt.plot(K_list, err_train, '-', label='train')\n",
        "plt.legend()\n",
        "plt.xlabel('K (number of neighbours)')\n",
        "plt.ylabel('mean squared error')\n",
        "plt.show()"
      ],
      "execution_count": 9,
      "outputs": [
        {
          "output_type": "display_data",
          "data": {
            "image/png": "[encoded data removed]",
            "text/plain": [
              "<Figure size 432x288 with 1 Axes>"
            ]
          },
          "metadata": {
            "tags": [],
            "needs_background": "light"
          }
        }
      ]
    },
    {
      "cell_type": "markdown",
      "metadata": {
        "id": "d0p45px09i_r"
      },
      "source": [
        "The plot above shows that the best model according to our training data is not necessarily the best model when it comes to unseen data. \n",
        "What other observations can we make from the plot above?\n",
        "\n",
        "## Generalization error\n",
        "what we really care about is the performance of the model on new data.\n",
        "In other words, we want to see how our model **generalizes** to unseen data. \n",
        "An assumption that justifies deployment of our model on unseen data is the fact that our training and deployment data come from the *same* distribution. In fact very often we assume that there exists some distribution $p(x,y)$ over our features and labels, such that our training data is composed of independent samples from this distribution -- that is $x^{(n)}, y^{(n)} \\sim p(x, y)$ for all $x^{(n)}, y^{(n)} \\in \\mathcal{D}$. We assume that unseen data are also samples from the same distribution.\n",
        "\n",
        "**Generalization error** is the *expected error* of our model $f: x \\mapsto y$ under this distribution:\n",
        "$$ \n",
        "Err(f) = \\mathbb{E}_{x,y \\sim p}[\\ell(f(x), y)].\n",
        "$$\n",
        "Here $\\ell$ is some *loss function* such as classification error $\\ell(y, \\hat{y}) = \\mathbb{I}(y = \\hat{y})$ or square loss $\\ell(y, \\hat{y}) = (y - \\hat{y})^2$ that we often use in regression.\n",
        "\n",
        "## Test set\n",
        "Unfortunately, we don't have access to the true data distribution, we only have samples from this dataset. We can estimate the generalization error by setting aside a portion of our dataset that **we do not using in any way in learning or selecting the model**. This part of the dataset is called the **test set**. Let's use $\\mathcal{D}_{\\text{train}}$ and $\\mathcal{D}_{\\text{test}}$ to this partitioning of our original dataset $\\mathcal{D}$. The **test error** is\n",
        "$$\n",
        "\\widehat{Err}(f) = \\mathbb{E}_{x, y \\sim \\mathcal{D}_{\\text{test}}}[\\ell(f(x), y)] = \\frac{1}{|\\mathcal{D}_{\\text{test}}|} \\sum_{x,y \\in \\mathcal{D}_{\\text{test}}} \\ell(f(x), y).\n",
        "$$\n",
        "\n",
        "## Validation set \n",
        "Suppose we want to tune the hyper-parameters of our model. We can use a similar idea for picking the best hyper-parameter. Ideally, we want to pick hyper-parameters that give us the best generalization error, or test error. However, it would be a mistake to adjust our model based on the test data; this could lead to overfitting to our test data, which means the performance on the test data is no longer an unbiased estimate of generalization error. So we can set aside another subset of our dataset for doing *model selection*. This is called the *validation set*, or *development set*."
      ]
    },
    {
      "cell_type": "code",
      "metadata": {
        "id": "yJ97fXq19i_s",
        "outputId": "4355b2ca-46d7-4b58-d60e-a031721cb830",
        "colab": {
          "base_uri": "https://localhost:8080/",
          "height": 280
        }
      },
      "source": [
        "#Split into train, validation and test (8:1:1)\n",
        "n_test, n_valid = num_instances // 10, num_instances // 10\n",
        "inds = np.random.permutation(num_instances)\n",
        "x_test, y_test = x[inds[:n_test]], y[inds[:n_test]]\n",
        "x_valid, y_valid = x[inds[n_test:n_test+n_valid]], y[inds[n_test:n_test+n_valid]]\n",
        "x_train, y_train = x[inds[n_test+n_valid:]], y[inds[n_test+n_valid:]]\n",
        "\n",
        "#Plot the mean square error for different K values stored in K_list\n",
        "K_list = range(1,30)\n",
        "err_train, err_test, err_valid = [], [], []\n",
        "for i, K in enumerate(K_list):\n",
        "    model = neighbors.KNeighborsRegressor(n_neighbors=K)\n",
        "    model = model.fit(x_train, y_train)\n",
        "    err_test.append(loss(model.predict(x_test), y_test))\n",
        "    err_valid.append(loss(model.predict(x_valid), y_valid))\n",
        "    err_train.append(loss(model.predict(x_train), y_train))\n",
        "    \n",
        "plt.plot(K_list, err_test,  label='test')\n",
        "#plt.plot(K_list, err_train,  label='train')\n",
        "plt.plot(K_list, err_valid, label='validation')\n",
        "\n",
        "plt.legend()\n",
        "plt.xlabel('K (number of neighbours)')\n",
        "plt.ylabel('mean squared error')\n",
        "plt.show()"
      ],
      "execution_count": 10,
      "outputs": [
        {
          "output_type": "display_data",
          "data": {
            "image/png": "[encoded data removed]",
            "text/plain": [
              "<Figure size 432x288 with 1 Axes>"
            ]
          },
          "metadata": {
            "tags": [],
            "needs_background": "light"
          }
        }
      ]
    },
    {
      "cell_type": "markdown",
      "metadata": {
        "id": "5YBHCKyw9i_v"
      },
      "source": [
        "### Cross validation \n",
        "Note that once we pick the best hyper-parameters for our model we can use both train+validation sets to retrain the model. This is only practical if training can be done efficiently.\n",
        "In the figure above you can notice that validation error can be slightly different from the test error (simply re-run the code). This difference is due to the size of both validation and test sets. We can get a better estimate of the validation error and its variance using **cross validation**: the idea is to repeat the trainin-validation using a different portion of the data. Then we can use the mean and the variance of the training and validation error over these repetitions. For this, it is best to use non-overlapping validation sets: for example use, first we set asign 10% of the data for test. Then a 5-fold cross-validation, would divide the remaining 90% to 5 subsets. At each iteration of cross-validation, one of these 5 subsets will be used for validation and the remaining 4 will be used for training. Once we pick the best model using mean and variance of the validation error, we can train the model using the entire 90% of the data. Finally, we report the performance on the test set. Below we implement a method that returns train and validation split for cross-validation."
      ]
    },
    {
      "cell_type": "code",
      "metadata": {
        "id": "eil-AWS19i_v"
      },
      "source": [
        "def cross_validate(n, n_folds=10):\n",
        "    #get the number of data samples in each split\n",
        "    n_val = n // n_folds\n",
        "    inds = np.random.permutation(n)\n",
        "    inds = []\n",
        "    for f in range(n_folds):\n",
        "        tr_inds = []\n",
        "        #get the validation indexes\n",
        "        val_inds = list(range(f * n_val, (f+1)*n_val))\n",
        "        #get the train indexes\n",
        "        if f > 0:\n",
        "            tr_inds = list(range(f*n_val))\n",
        "        if f < n_folds - 1:\n",
        "            tr_inds = tr_inds + list(range((f+1)*n_val, n))\n",
        "        #The yield statement suspends function’s execution and sends a value back to the caller\n",
        "        #but retains enough state information to enable function to resume where it is left off\n",
        "        yield tr_inds, val_inds"
      ],
      "execution_count": 11,
      "outputs": []
    },
    {
      "cell_type": "markdown",
      "metadata": {
        "id": "zPPTQYTC9i_y"
      },
      "source": [
        "Let's first set aside the test data"
      ]
    },
    {
      "cell_type": "code",
      "metadata": {
        "id": "VXgHt6vv9i_z"
      },
      "source": [
        "inds = np.random.permutation(num_instances)\n",
        "#seperate the test data\n",
        "x_test, y_test = x[inds[:n_test]], y[inds[:n_test]]\n",
        "x_rest, y_rest = x[inds[n_test:]], y[inds[n_test:]]\n",
        "#rest for training and validation\n",
        "n_rest = num_instances - n_test"
      ],
      "execution_count": 12,
      "outputs": []
    },
    {
      "cell_type": "markdown",
      "metadata": {
        "id": "QSomnU-O9i_1"
      },
      "source": [
        "Then we use cross-validation to find the best set of hyper-parameters"
      ]
    },
    {
      "cell_type": "code",
      "metadata": {
        "id": "9QB5jak59i_2",
        "outputId": "2561f2f9-388b-4c64-9a18-68270a8acf7e",
        "colab": {
          "base_uri": "https://localhost:8080/",
          "height": 279
        }
      },
      "source": [
        "num_folds = 10\n",
        "err_test, err_valid = np.zeros(len(K_list)), np.zeros((len(K_list), num_folds))\n",
        "for i, K in enumerate(K_list):\n",
        "    #Find the validation errors for num_folds splits for a given K\n",
        "    for f, (tr, val) in enumerate(cross_validate(n_rest, num_folds)):\n",
        "        model = neighbors.KNeighborsRegressor(n_neighbors=K)\n",
        "        model = model.fit(x_rest[tr], y_rest[tr])\n",
        "        err_valid[i, f] = loss(y_rest[val], model.predict(x_rest[val]))\n",
        "    #this is the part that we don't do in a usual setup. We don't touch the test set until the very end. \n",
        "    model = neighbors.KNeighborsRegressor(n_neighbors=K)\n",
        "    model = model.fit(x_rest, y_rest)\n",
        "    err_test[i]= loss(y_test, model.predict(x_test))\n",
        "    \n",
        "plt.plot(K_list, err_test,  label='test')\n",
        "plt.errorbar(K_list, np.mean(err_valid, axis=1), np.std(err_valid, axis=1), label='validation')\n",
        "plt.legend()\n",
        "plt.xlabel('K (number of neighbours)')\n",
        "plt.ylabel('mean squared error')\n",
        "plt.show()"
      ],
      "execution_count": 13,
      "outputs": [
        {
          "output_type": "display_data",
          "data": {
            "image/png": "[encoded data removed]",
            "text/plain": [
              "<Figure size 432x288 with 1 Axes>"
            ]
          },
          "metadata": {
            "tags": [],
            "needs_background": "light"
          }
        }
      ]
    },
    {
      "cell_type": "markdown",
      "metadata": {
        "id": "Soy9t3tB9i_5"
      },
      "source": [
        "A simple rule of thumb for picking the best model using cross-validation is to pick the simplest model that is within one standard deviation of the best performing model.\n",
        "What if we have multiple hyper-parameters that should be optimized simultaneously? Some simple solutions are **grid-search** and **random-search** which exhustively or randomly search over joint assignments to hyper-parameters. "
      ]
    },
    {
      "cell_type": "markdown",
      "metadata": {
        "id": "Y8Xa72w19i_6"
      },
      "source": [
        "## Evaluation metrics\n",
        "\n",
        "One could use criteria that are potentially different from the objective in a classification or regression task to evaluate a model.\n",
        "For example, while it may be easier to optimize mean squared error in regression, we may be eventually interested in the relative error $\\frac{|\\hat{y}-y|}{|y + \\epsilon|}$. Note that \"ideally\" we should try to optimize the quantity we are interested in. While some measures may be hard to optimize we can use them in model selection; for example in picking the best hyper-parameter.\n",
        "\n",
        "### Confusion matrix\n",
        "For classification, we can better understand the behaviour of our classifier by producing the *confusion matrix*. It tells us how much items in one class (rows) are assigned to another class by a classifier (columns). Let's use `scikit-learn`'s implementation of decision tree to learn a classifier."
      ]
    },
    {
      "cell_type": "code",
      "metadata": {
        "id": "k0ARZTP-9i_7"
      },
      "source": [
        "from sklearn import tree, model_selection\n",
        "x, y = datasets.load_iris(return_X_y=True)\n",
        "x_train, x_test, y_train, y_test = model_selection.train_test_split(x, y, test_size=0.2) # this is similar to our manual split above\n",
        "yh_test = tree.DecisionTreeClassifier().fit(x_train, y_train).predict(x_test)"
      ],
      "execution_count": 14,
      "outputs": []
    },
    {
      "cell_type": "markdown",
      "metadata": {
        "id": "PSQbvcA49i_9"
      },
      "source": [
        "Now let's calculate the confusion matrix"
      ]
    },
    {
      "cell_type": "code",
      "metadata": {
        "id": "6mwbkN--9i_-",
        "outputId": "adb104a0-1818-4bf5-98cc-d962c7282f40",
        "colab": {
          "base_uri": "https://localhost:8080/",
          "height": 85
        }
      },
      "source": [
        "def confusion_matrix(y, yh):\n",
        "    n_classes = np.max(y) + 1\n",
        "    c_matrix = np.zeros((n_classes, n_classes))\n",
        "    for c1 in range(n_classes):\n",
        "        for c2 in range(n_classes):\n",
        "            #(y==c1)*(yh==c2) is 1 when both conditions are true or 0\n",
        "            c_matrix[c1, c2] = np.sum((y==c1)*(yh==c2))\n",
        "    return c_matrix\n",
        "\n",
        "cmat = confusion_matrix(y_test, yh_test)\n",
        "print(cmat)\n",
        "print(f'accuracy: {np.sum(np.diag(cmat))/np.sum(cmat)}')"
      ],
      "execution_count": 17,
      "outputs": [
        {
          "output_type": "stream",
          "text": [
            "[[10.  0.  0.]\n",
            " [ 0. 10.  1.]\n",
            " [ 0.  2.  7.]]\n",
            "accuracy: 0.9\n"
          ],
          "name": "stdout"
        }
      ]
    },
    {
      "cell_type": "markdown",
      "metadata": {
        "id": "aZLGHS349jAC"
      },
      "source": [
        "For **binary classification**, the four elements of the confusion table give us\n",
        "- true-positive (TP)\n",
        "- true-negative (TN)\n",
        "- false-positive (FP)\n",
        "- false negative (FN)\n",
        "As before **accuracy** is the sum of diagonal elements divided by the whole matrix. Various quantities such as false positive rate, precision, recall and false discovery rate are calcusted from these four values."
      ]
    }
  ]
}