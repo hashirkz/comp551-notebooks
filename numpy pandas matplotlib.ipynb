{
  "cells": [
    {
      "cell_type": "markdown",
      "id": "cc69f9f9",
      "metadata": {
        "id": "cc69f9f9"
      },
      "source": [
        "# Python tutorial of COMP551\n",
        "The objective of this tutorial is to the basic Python packages numpy, pandas, matplotlib, which are widely used in the machine learning community."
      ]
    },
    {
      "cell_type": "markdown",
      "id": "be037532",
      "metadata": {
        "id": "be037532"
      },
      "source": [
        "I recommend Anaconda (https://www.anaconda.com/) that combine Python language with most of popular machine learning, scentific compution and professional plotting packages. "
      ]
    },
    {
      "cell_type": "markdown",
      "id": "766706df",
      "metadata": {
        "id": "766706df"
      },
      "source": [
        "## Numpy package\n",
        "Numpy provides a easy way to use multi-dimensional arrays and matrices, along with mathematical functions to operate mathematical computations. "
      ]
    },
    {
      "cell_type": "markdown",
      "id": "ad6f5886",
      "metadata": {
        "id": "ad6f5886"
      },
      "source": [
        "We always have this set of imports at the beginning of our notebooks and set the random seed."
      ]
    },
    {
      "cell_type": "code",
      "execution_count": 9,
      "id": "63df9377",
      "metadata": {
        "id": "63df9377"
      },
      "outputs": [],
      "source": [
        "import numpy as np\n",
        "\n",
        "#it is important to set the seed for reproducibility as it initializes the random number generator\n",
        "np.random.seed(1234)"
      ]
    },
    {
      "cell_type": "code",
      "execution_count": 10,
      "id": "7c3097ce",
      "metadata": {
        "id": "7c3097ce"
      },
      "outputs": [],
      "source": [
        "# create a vector\n",
        "a = np.array([1, 2, 3, 4, 5, 6])"
      ]
    },
    {
      "cell_type": "code",
      "execution_count": 11,
      "id": "3746557c",
      "metadata": {
        "colab": {
          "base_uri": "https://localhost:8080/"
        },
        "id": "3746557c",
        "outputId": "2213eded-6535-464d-dd1b-c3adcacd6bf9"
      },
      "outputs": [
        {
          "data": {
            "text/plain": [
              "(array([1, 2, 3, 4, 5, 6]), (6,))"
            ]
          },
          "execution_count": 11,
          "metadata": {},
          "output_type": "execute_result"
        }
      ],
      "source": [
        "a, a.shape"
      ]
    },
    {
      "cell_type": "code",
      "execution_count": 12,
      "id": "8925c9ff",
      "metadata": {
        "id": "8925c9ff"
      },
      "outputs": [],
      "source": [
        "# create a 3 X 4 matrix\n",
        "b = np.array([[1, 2, 3, 4], [5, 6, 7, 8], [9, 10, 11, 12]])"
      ]
    },
    {
      "cell_type": "code",
      "execution_count": 13,
      "id": "c7927771",
      "metadata": {
        "colab": {
          "base_uri": "https://localhost:8080/"
        },
        "id": "c7927771",
        "outputId": "c6688350-0261-4a79-e9e0-408bee3b5572"
      },
      "outputs": [
        {
          "data": {
            "text/plain": [
              "(array([[ 1,  2,  3,  4],\n",
              "        [ 5,  6,  7,  8],\n",
              "        [ 9, 10, 11, 12]]),\n",
              " (3, 4))"
            ]
          },
          "execution_count": 13,
          "metadata": {},
          "output_type": "execute_result"
        }
      ],
      "source": [
        "b, b.shape"
      ]
    },
    {
      "cell_type": "code",
      "execution_count": 14,
      "id": "dcadff02",
      "metadata": {
        "colab": {
          "base_uri": "https://localhost:8080/"
        },
        "id": "dcadff02",
        "outputId": "7ce7099d-33b7-4b11-8f10-cb3fb6c9d506"
      },
      "outputs": [
        {
          "data": {
            "text/plain": [
              "(array([0., 0., 0., 0.]),\n",
              " array([[0., 0., 0., 0.],\n",
              "        [0., 0., 0., 0.],\n",
              "        [0., 0., 0., 0.]]))"
            ]
          },
          "execution_count": 14,
          "metadata": {},
          "output_type": "execute_result"
        }
      ],
      "source": [
        "# However, typing one by one is not easy, we can fill automatically using functions\n",
        "np.zeros(4), np.zeros((3,4))"
      ]
    },
    {
      "cell_type": "code",
      "execution_count": 15,
      "id": "00ed92db",
      "metadata": {
        "colab": {
          "base_uri": "https://localhost:8080/"
        },
        "id": "00ed92db",
        "outputId": "f9a06341-d132-4327-d8bc-de46c57b96b2"
      },
      "outputs": [
        {
          "data": {
            "text/plain": [
              "(array([1., 1., 1., 1.]),\n",
              " array([[1., 1., 1., 1.],\n",
              "        [1., 1., 1., 1.],\n",
              "        [1., 1., 1., 1.]]))"
            ]
          },
          "execution_count": 15,
          "metadata": {},
          "output_type": "execute_result"
        }
      ],
      "source": [
        "np.ones(4), np.ones((3,4))"
      ]
    },
    {
      "cell_type": "code",
      "execution_count": 16,
      "id": "a8946fc3",
      "metadata": {
        "colab": {
          "base_uri": "https://localhost:8080/"
        },
        "id": "a8946fc3",
        "outputId": "fb0491a8-a9d0-4c87-caf4-7c159a81453c"
      },
      "outputs": [
        {
          "data": {
            "text/plain": [
              "array([0, 1, 2, 3])"
            ]
          },
          "execution_count": 16,
          "metadata": {},
          "output_type": "execute_result"
        }
      ],
      "source": [
        "# or generate by a sequence\n",
        "np.arange(4)"
      ]
    },
    {
      "cell_type": "code",
      "execution_count": 17,
      "id": "fd34da3e",
      "metadata": {
        "colab": {
          "base_uri": "https://localhost:8080/"
        },
        "id": "fd34da3e",
        "outputId": "b511e99f-936d-42ed-f438-1d354bb6d975"
      },
      "outputs": [
        {
          "data": {
            "text/plain": [
              "array([2, 4, 6, 8])"
            ]
          },
          "execution_count": 17,
          "metadata": {},
          "output_type": "execute_result"
        }
      ],
      "source": [
        "#start from 2 and end at 9 with a span of 2 (the same syntax as range())\n",
        "np.arange(2, 9, 2)"
      ]
    },
    {
      "cell_type": "code",
      "execution_count": 18,
      "id": "ce6138dc",
      "metadata": {
        "id": "ce6138dc"
      },
      "outputs": [],
      "source": [
        "# or we use a random distribution (ith mean 0 and standard deviation 1 in this case)\n",
        "c = np.random.normal(0, 1, (3,4))"
      ]
    },
    {
      "cell_type": "code",
      "execution_count": 19,
      "id": "69d34d1e",
      "metadata": {
        "colab": {
          "base_uri": "https://localhost:8080/"
        },
        "id": "69d34d1e",
        "outputId": "8162e6c8-34cd-4651-ae6c-b80baa92e32b"
      },
      "outputs": [
        {
          "data": {
            "text/plain": [
              "(array([[ 0.47143516, -1.19097569,  1.43270697, -0.3126519 ],\n",
              "        [-0.72058873,  0.88716294,  0.85958841, -0.6365235 ],\n",
              "        [ 0.01569637, -2.24268495,  1.15003572,  0.99194602]]),\n",
              " 0.05876223521622723,\n",
              " 1.0620899427630748)"
            ]
          },
          "execution_count": 19,
          "metadata": {},
          "output_type": "execute_result"
        }
      ],
      "source": [
        "c, np.mean(c), np.std(c)"
      ]
    },
    {
      "cell_type": "markdown",
      "id": "0d950335",
      "metadata": {
        "id": "0d950335"
      },
      "source": [
        "After we have numpy.array objects, we can do more manipulations"
      ]
    },
    {
      "cell_type": "code",
      "execution_count": 20,
      "id": "908f7e0f",
      "metadata": {
        "colab": {
          "base_uri": "https://localhost:8080/"
        },
        "id": "908f7e0f",
        "outputId": "b71face8-10da-4aad-b4d2-25794033d04b"
      },
      "outputs": [
        {
          "data": {
            "text/plain": [
              "array([[ 0.47143516, -1.19097569,  1.43270697],\n",
              "       [-0.3126519 , -0.72058873,  0.88716294],\n",
              "       [ 0.85958841, -0.6365235 ,  0.01569637],\n",
              "       [-2.24268495,  1.15003572,  0.99194602]])"
            ]
          },
          "execution_count": 20,
          "metadata": {},
          "output_type": "execute_result"
        }
      ],
      "source": [
        "# reshape a matrix, here it becomes transposed\n",
        "c.reshape(4,3)"
      ]
    },
    {
      "cell_type": "code",
      "execution_count": 21,
      "id": "ec74caaa",
      "metadata": {
        "colab": {
          "base_uri": "https://localhost:8080/"
        },
        "id": "ec74caaa",
        "outputId": "141cf001-6739-4b97-ba59-c9f3a6987cfe"
      },
      "outputs": [
        {
          "data": {
            "text/plain": [
              "array([ 0.47143516, -1.19097569,  1.43270697, -0.3126519 , -0.72058873,\n",
              "        0.88716294,  0.85958841, -0.6365235 ,  0.01569637, -2.24268495,\n",
              "        1.15003572,  0.99194602])"
            ]
          },
          "execution_count": 21,
          "metadata": {},
          "output_type": "execute_result"
        }
      ],
      "source": [
        "# reshape to a vector\n",
        "c.reshape(12,)"
      ]
    },
    {
      "cell_type": "code",
      "execution_count": 22,
      "id": "28caebef",
      "metadata": {
        "colab": {
          "base_uri": "https://localhost:8080/"
        },
        "id": "28caebef",
        "outputId": "0a5c6f0a-f315-4462-f9a6-a7163c48c0ba"
      },
      "outputs": [
        {
          "data": {
            "text/plain": [
              "array([1, 2, 3, 4, 5, 6, 7, 8])"
            ]
          },
          "execution_count": 22,
          "metadata": {},
          "output_type": "execute_result"
        }
      ],
      "source": [
        "np.sort([2, 1, 5, 3, 7, 4, 6, 8])"
      ]
    },
    {
      "cell_type": "code",
      "execution_count": 23,
      "id": "5e1db142",
      "metadata": {
        "colab": {
          "base_uri": "https://localhost:8080/"
        },
        "id": "5e1db142",
        "outputId": "cdfab709-24b1-46b4-dbcd-17b95dfafc85"
      },
      "outputs": [
        {
          "data": {
            "text/plain": [
              "array([1, 0, 3, 5, 2, 6, 4, 7], dtype=int64)"
            ]
          },
          "execution_count": 23,
          "metadata": {},
          "output_type": "execute_result"
        }
      ],
      "source": [
        "np.argsort([2, 1, 5, 3, 7, 4, 6, 8])"
      ]
    },
    {
      "cell_type": "code",
      "execution_count": 24,
      "id": "7597b729",
      "metadata": {
        "colab": {
          "base_uri": "https://localhost:8080/"
        },
        "id": "7597b729",
        "outputId": "2538562a-08a1-480d-dfb1-236e39f89a92"
      },
      "outputs": [
        {
          "data": {
            "text/plain": [
              "array([1, 2, 3, 4, 5, 6, 7, 8])"
            ]
          },
          "execution_count": 24,
          "metadata": {},
          "output_type": "execute_result"
        }
      ],
      "source": [
        "a = np.array([1, 2, 3, 4])\n",
        "b = np.array([5, 6, 7, 8])\n",
        "np.concatenate((a, b))"
      ]
    },
    {
      "cell_type": "markdown",
      "id": "60c9cb69",
      "metadata": {
        "id": "60c9cb69"
      },
      "source": [
        "Basic array operations"
      ]
    },
    {
      "cell_type": "code",
      "execution_count": 25,
      "id": "825f69df",
      "metadata": {
        "id": "825f69df"
      },
      "outputs": [],
      "source": [
        "# we can use addition, subtraction, multiplication, division operations on the arrays\n",
        "data1 = np.array([1, 2])\n",
        "data2 = np.array([2, 2])"
      ]
    },
    {
      "cell_type": "code",
      "execution_count": 26,
      "id": "aec9cb29",
      "metadata": {
        "colab": {
          "base_uri": "https://localhost:8080/"
        },
        "id": "aec9cb29",
        "outputId": "7474909f-33cf-4cc4-c7a4-dee2b7fbceda"
      },
      "outputs": [
        {
          "data": {
            "text/plain": [
              "array([-1,  0])"
            ]
          },
          "execution_count": 26,
          "metadata": {},
          "output_type": "execute_result"
        }
      ],
      "source": [
        "# we can see these operations are element-wise operations\n",
        "data1-data2"
      ]
    },
    {
      "cell_type": "code",
      "execution_count": 27,
      "id": "18d517c2",
      "metadata": {
        "colab": {
          "base_uri": "https://localhost:8080/"
        },
        "id": "18d517c2",
        "outputId": "1dc78bc9-fdef-4d24-a153-2ea703d44a99"
      },
      "outputs": [
        {
          "data": {
            "text/plain": [
              "(array([2, 4]), array([0.5, 1. ]))"
            ]
          },
          "execution_count": 27,
          "metadata": {},
          "output_type": "execute_result"
        }
      ],
      "source": [
        "data1*data2, data1/data2"
      ]
    },
    {
      "cell_type": "code",
      "execution_count": 28,
      "id": "f78a1dac",
      "metadata": {
        "colab": {
          "base_uri": "https://localhost:8080/"
        },
        "id": "f78a1dac",
        "outputId": "3b80c861-4a65-4e8f-e9a6-de98976480bf"
      },
      "outputs": [
        {
          "data": {
            "text/plain": [
              "array([1.6, 3.2])"
            ]
          },
          "execution_count": 28,
          "metadata": {},
          "output_type": "execute_result"
        }
      ],
      "source": [
        "# broadcasting, element-wise operation\n",
        "data1 * 1.6"
      ]
    },
    {
      "cell_type": "code",
      "execution_count": 29,
      "id": "84d00b37",
      "metadata": {
        "colab": {
          "base_uri": "https://localhost:8080/"
        },
        "id": "84d00b37",
        "outputId": "b3f857b6-8fee-4ac5-a061-94b77fcd85bd"
      },
      "outputs": [
        {
          "data": {
            "text/plain": [
              "2"
            ]
          },
          "execution_count": 29,
          "metadata": {},
          "output_type": "execute_result"
        }
      ],
      "source": [
        "# More useful opeations \n",
        "data1.max()  # np.max(data1)"
      ]
    },
    {
      "cell_type": "code",
      "execution_count": 30,
      "id": "026bffd5",
      "metadata": {
        "colab": {
          "base_uri": "https://localhost:8080/"
        },
        "id": "026bffd5",
        "outputId": "c78f8c74-976a-474f-9758-6f0a65db9580"
      },
      "outputs": [
        {
          "data": {
            "text/plain": [
              "1"
            ]
          },
          "execution_count": 30,
          "metadata": {},
          "output_type": "execute_result"
        }
      ],
      "source": [
        "data1.min()   # np.min(data1)"
      ]
    },
    {
      "cell_type": "code",
      "execution_count": 31,
      "id": "8b20b3b5",
      "metadata": {
        "colab": {
          "base_uri": "https://localhost:8080/"
        },
        "id": "8b20b3b5",
        "outputId": "03b6325d-d9dd-4c07-e55c-76ff6cc44713"
      },
      "outputs": [
        {
          "data": {
            "text/plain": [
              "3"
            ]
          },
          "execution_count": 31,
          "metadata": {},
          "output_type": "execute_result"
        }
      ],
      "source": [
        "data1.sum()   # np.sum(data1)"
      ]
    },
    {
      "cell_type": "markdown",
      "id": "d3dae2bf",
      "metadata": {
        "id": "d3dae2bf"
      },
      "source": [
        "Basic matrix operations"
      ]
    },
    {
      "cell_type": "code",
      "execution_count": 32,
      "id": "43273990",
      "metadata": {
        "id": "43273990"
      },
      "outputs": [],
      "source": [
        "# we can perform addition on one matrix and one vector\n",
        "data = np.array([[1, 2], [3, 4], [5, 6]])\n",
        "ones_row = np.array([[1, 1]])"
      ]
    },
    {
      "cell_type": "code",
      "execution_count": 33,
      "id": "5fd67a4b",
      "metadata": {
        "colab": {
          "base_uri": "https://localhost:8080/"
        },
        "id": "5fd67a4b",
        "outputId": "316aab19-959d-4acc-d33e-fe09b13a0d4d"
      },
      "outputs": [
        {
          "data": {
            "text/plain": [
              "array([[2, 3],\n",
              "       [4, 5],\n",
              "       [6, 7]])"
            ]
          },
          "execution_count": 33,
          "metadata": {},
          "output_type": "execute_result"
        }
      ],
      "source": [
        "# Each row of matrix is added with another row (broatcast)\n",
        "data + ones_row"
      ]
    },
    {
      "cell_type": "code",
      "execution_count": 34,
      "id": "b2c054b7",
      "metadata": {
        "id": "b2c054b7"
      },
      "outputs": [],
      "source": [
        "# we can perform addition on two matrices\n",
        "data = np.array([[1, 2], [3, 4]])\n",
        "ones_matrix = np.array([[1, 1], [1, 1]])"
      ]
    },
    {
      "cell_type": "code",
      "execution_count": 35,
      "id": "50ebcae8",
      "metadata": {
        "colab": {
          "base_uri": "https://localhost:8080/"
        },
        "id": "50ebcae8",
        "outputId": "cadb4882-7420-4a20-f944-59d0a3ea9bd2"
      },
      "outputs": [
        {
          "data": {
            "text/plain": [
              "array([[2, 3],\n",
              "       [4, 5]])"
            ]
          },
          "execution_count": 35,
          "metadata": {},
          "output_type": "execute_result"
        }
      ],
      "source": [
        "# same, it is element-wise operations\n",
        "data + ones_matrix"
      ]
    },
    {
      "cell_type": "markdown",
      "id": "df6b99b3",
      "metadata": {
        "id": "df6b99b3"
      },
      "source": [
        "Matrix manipulations are much more faster than for-loop operations"
      ]
    },
    {
      "cell_type": "code",
      "execution_count": 36,
      "id": "b5b702b2",
      "metadata": {
        "id": "b5b702b2",
        "outputId": "d9a0c0be-509b-4aee-e10d-49bef86ea384"
      },
      "outputs": [
        {
          "name": "stdout",
          "output_type": "stream",
          "text": [
            "0.8799724578857422\n"
          ]
        }
      ],
      "source": [
        "import time\n",
        "\n",
        "# the time running matrix manipulations (1000000 times)\n",
        "\n",
        "start = time.time()\n",
        "for i in range(1000000):\n",
        "    new_matrix = data + ones_matrix\n",
        "done = time.time()\n",
        "elapsed = done - start\n",
        "print(elapsed)"
      ]
    },
    {
      "cell_type": "code",
      "execution_count": null,
      "id": "1ab7cd44",
      "metadata": {
        "id": "1ab7cd44",
        "outputId": "7f3142e3-3d2b-42e3-f3d6-fb890dd9f29e"
      },
      "outputs": [
        {
          "name": "stdout",
          "output_type": "stream",
          "text": [
            "4.521687030792236\n"
          ]
        }
      ],
      "source": [
        "# the time running for-loop operations (1000000 times)\n",
        "start = time.time()\n",
        "for i in range(1000000):\n",
        "    new_matrix = np.zeros(data.shape)\n",
        "    for i in range(data.shape[0]):\n",
        "        for j in range(data.shape[1]):\n",
        "            new_matrix = data[i,j] + ones_matrix[i,j]\n",
        "\n",
        "done = time.time()\n",
        "elapsed = done - start\n",
        "print(elapsed)"
      ]
    },
    {
      "cell_type": "markdown",
      "id": "e45d9318",
      "metadata": {
        "id": "e45d9318"
      },
      "source": [
        "## Pandas package\n",
        "Pandas is a popular package for data manipulation and analysis. \n",
        "We gonna use a object called DataFrame, which is used to store complex data structure."
      ]
    },
    {
      "cell_type": "code",
      "execution_count": null,
      "id": "8843b6a2",
      "metadata": {
        "id": "8843b6a2"
      },
      "outputs": [],
      "source": [
        "import pandas as pd"
      ]
    },
    {
      "cell_type": "code",
      "execution_count": null,
      "id": "e138e88c",
      "metadata": {
        "colab": {
          "base_uri": "https://localhost:8080/",
          "height": 175
        },
        "id": "e138e88c",
        "outputId": "1d0789f6-ded8-4da3-8aea-a44bc6920473"
      },
      "outputs": [
        {
          "data": {
            "text/html": [
              "<div>\n",
              "<style scoped>\n",
              "    .dataframe tbody tr th:only-of-type {\n",
              "        vertical-align: middle;\n",
              "    }\n",
              "\n",
              "    .dataframe tbody tr th {\n",
              "        vertical-align: top;\n",
              "    }\n",
              "\n",
              "    .dataframe thead th {\n",
              "        text-align: right;\n",
              "    }\n",
              "</style>\n",
              "<table border=\"1\" class=\"dataframe\">\n",
              "  <thead>\n",
              "    <tr style=\"text-align: right;\">\n",
              "      <th></th>\n",
              "      <th>A</th>\n",
              "      <th>B</th>\n",
              "      <th>C</th>\n",
              "    </tr>\n",
              "  </thead>\n",
              "  <tbody>\n",
              "    <tr>\n",
              "      <th>0</th>\n",
              "      <td>A0</td>\n",
              "      <td>B0</td>\n",
              "      <td>C0</td>\n",
              "    </tr>\n",
              "    <tr>\n",
              "      <th>1</th>\n",
              "      <td>A1</td>\n",
              "      <td>B1</td>\n",
              "      <td>C1</td>\n",
              "    </tr>\n",
              "    <tr>\n",
              "      <th>2</th>\n",
              "      <td>A2</td>\n",
              "      <td>B2</td>\n",
              "      <td>C2</td>\n",
              "    </tr>\n",
              "    <tr>\n",
              "      <th>3</th>\n",
              "      <td>A3</td>\n",
              "      <td>B3</td>\n",
              "      <td>C3</td>\n",
              "    </tr>\n",
              "  </tbody>\n",
              "</table>\n",
              "</div>"
            ],
            "text/plain": [
              "    A   B   C\n",
              "0  A0  B0  C0\n",
              "1  A1  B1  C1\n",
              "2  A2  B2  C2\n",
              "3  A3  B3  C3"
            ]
          },
          "execution_count": 31,
          "metadata": {},
          "output_type": "execute_result"
        }
      ],
      "source": [
        "# pandas can create data from Python built-in object (such as dict object)\n",
        "\n",
        "data = {\n",
        "        \"A\": [\"A0\", \"A1\", \"A2\", \"A3\"],\n",
        "        \"B\": [\"B0\", \"B1\", \"B2\", \"B3\"],\n",
        "        \"C\": [\"C0\", \"C1\", \"C2\", \"C3\"],\n",
        "    }\n",
        "df1 = pd.DataFrame(data, index=[0, 1, 2, 3])\n",
        "df1"
      ]
    },
    {
      "cell_type": "code",
      "execution_count": null,
      "id": "2da58a12",
      "metadata": {
        "id": "2da58a12"
      },
      "outputs": [],
      "source": [
        "# we can save as data file, it could be txt, csv, xlxs formats\n",
        "\n",
        "df1.to_csv(\"test.txt\", index=False)"
      ]
    },
    {
      "cell_type": "code",
      "execution_count": null,
      "id": "00624918",
      "metadata": {
        "colab": {
          "base_uri": "https://localhost:8080/",
          "height": 175
        },
        "id": "00624918",
        "outputId": "a44d7c91-b405-4117-faac-99d2807f655e"
      },
      "outputs": [
        {
          "data": {
            "text/html": [
              "<div>\n",
              "<style scoped>\n",
              "    .dataframe tbody tr th:only-of-type {\n",
              "        vertical-align: middle;\n",
              "    }\n",
              "\n",
              "    .dataframe tbody tr th {\n",
              "        vertical-align: top;\n",
              "    }\n",
              "\n",
              "    .dataframe thead th {\n",
              "        text-align: right;\n",
              "    }\n",
              "</style>\n",
              "<table border=\"1\" class=\"dataframe\">\n",
              "  <thead>\n",
              "    <tr style=\"text-align: right;\">\n",
              "      <th></th>\n",
              "      <th>A</th>\n",
              "      <th>B</th>\n",
              "      <th>C</th>\n",
              "    </tr>\n",
              "  </thead>\n",
              "  <tbody>\n",
              "    <tr>\n",
              "      <th>0</th>\n",
              "      <td>A0</td>\n",
              "      <td>B0</td>\n",
              "      <td>C0</td>\n",
              "    </tr>\n",
              "    <tr>\n",
              "      <th>1</th>\n",
              "      <td>A1</td>\n",
              "      <td>B1</td>\n",
              "      <td>C1</td>\n",
              "    </tr>\n",
              "    <tr>\n",
              "      <th>2</th>\n",
              "      <td>A2</td>\n",
              "      <td>B2</td>\n",
              "      <td>C2</td>\n",
              "    </tr>\n",
              "    <tr>\n",
              "      <th>3</th>\n",
              "      <td>A3</td>\n",
              "      <td>B3</td>\n",
              "      <td>C3</td>\n",
              "    </tr>\n",
              "  </tbody>\n",
              "</table>\n",
              "</div>"
            ],
            "text/plain": [
              "    A   B   C\n",
              "0  A0  B0  C0\n",
              "1  A1  B1  C1\n",
              "2  A2  B2  C2\n",
              "3  A3  B3  C3"
            ]
          },
          "execution_count": 33,
          "metadata": {},
          "output_type": "execute_result"
        }
      ],
      "source": [
        "# or we can directly read data file into dataframe, such as txt, csv, xlxs formats...\n",
        "\n",
        "pd.read_csv(\"test.txt\", delimiter=',')"
      ]
    },
    {
      "cell_type": "code",
      "execution_count": null,
      "id": "a31da650",
      "metadata": {
        "colab": {
          "base_uri": "https://localhost:8080/",
          "height": 175
        },
        "id": "a31da650",
        "outputId": "d9c923dc-320b-4c66-a1dc-5ed2bb34cc9c"
      },
      "outputs": [
        {
          "data": {
            "text/html": [
              "<div>\n",
              "<style scoped>\n",
              "    .dataframe tbody tr th:only-of-type {\n",
              "        vertical-align: middle;\n",
              "    }\n",
              "\n",
              "    .dataframe tbody tr th {\n",
              "        vertical-align: top;\n",
              "    }\n",
              "\n",
              "    .dataframe thead th {\n",
              "        text-align: right;\n",
              "    }\n",
              "</style>\n",
              "<table border=\"1\" class=\"dataframe\">\n",
              "  <thead>\n",
              "    <tr style=\"text-align: right;\">\n",
              "      <th></th>\n",
              "      <th>A</th>\n",
              "      <th>B</th>\n",
              "      <th>C</th>\n",
              "    </tr>\n",
              "  </thead>\n",
              "  <tbody>\n",
              "    <tr>\n",
              "      <th>4</th>\n",
              "      <td>A4</td>\n",
              "      <td>B4</td>\n",
              "      <td>C4</td>\n",
              "    </tr>\n",
              "    <tr>\n",
              "      <th>5</th>\n",
              "      <td>A5</td>\n",
              "      <td>B5</td>\n",
              "      <td>C5</td>\n",
              "    </tr>\n",
              "    <tr>\n",
              "      <th>6</th>\n",
              "      <td>A6</td>\n",
              "      <td>B6</td>\n",
              "      <td>C6</td>\n",
              "    </tr>\n",
              "    <tr>\n",
              "      <th>7</th>\n",
              "      <td>A7</td>\n",
              "      <td>B7</td>\n",
              "      <td>C7</td>\n",
              "    </tr>\n",
              "  </tbody>\n",
              "</table>\n",
              "</div>"
            ],
            "text/plain": [
              "    A   B   C\n",
              "4  A4  B4  C4\n",
              "5  A5  B5  C5\n",
              "6  A6  B6  C6\n",
              "7  A7  B7  C7"
            ]
          },
          "execution_count": 34,
          "metadata": {},
          "output_type": "execute_result"
        }
      ],
      "source": [
        "df2 = pd.DataFrame(\n",
        "    {\n",
        "        \"A\": [\"A4\", \"A5\", \"A6\", \"A7\"],\n",
        "        \"B\": [\"B4\", \"B5\", \"B6\", \"B7\"],\n",
        "        \"C\": [\"C4\", \"C5\", \"C6\", \"C7\"],\n",
        "    },\n",
        "    index=[4, 5, 6, 7],\n",
        ")\n",
        "df2"
      ]
    },
    {
      "cell_type": "code",
      "execution_count": null,
      "id": "eeebae48",
      "metadata": {
        "colab": {
          "base_uri": "https://localhost:8080/",
          "height": 300
        },
        "id": "eeebae48",
        "outputId": "c4672fec-6544-41bb-dfc9-df34fa710c7d"
      },
      "outputs": [
        {
          "data": {
            "text/html": [
              "<div>\n",
              "<style scoped>\n",
              "    .dataframe tbody tr th:only-of-type {\n",
              "        vertical-align: middle;\n",
              "    }\n",
              "\n",
              "    .dataframe tbody tr th {\n",
              "        vertical-align: top;\n",
              "    }\n",
              "\n",
              "    .dataframe thead th {\n",
              "        text-align: right;\n",
              "    }\n",
              "</style>\n",
              "<table border=\"1\" class=\"dataframe\">\n",
              "  <thead>\n",
              "    <tr style=\"text-align: right;\">\n",
              "      <th></th>\n",
              "      <th>A</th>\n",
              "      <th>B</th>\n",
              "      <th>C</th>\n",
              "    </tr>\n",
              "  </thead>\n",
              "  <tbody>\n",
              "    <tr>\n",
              "      <th>0</th>\n",
              "      <td>A0</td>\n",
              "      <td>B0</td>\n",
              "      <td>C0</td>\n",
              "    </tr>\n",
              "    <tr>\n",
              "      <th>1</th>\n",
              "      <td>A1</td>\n",
              "      <td>B1</td>\n",
              "      <td>C1</td>\n",
              "    </tr>\n",
              "    <tr>\n",
              "      <th>2</th>\n",
              "      <td>A2</td>\n",
              "      <td>B2</td>\n",
              "      <td>C2</td>\n",
              "    </tr>\n",
              "    <tr>\n",
              "      <th>3</th>\n",
              "      <td>A3</td>\n",
              "      <td>B3</td>\n",
              "      <td>C3</td>\n",
              "    </tr>\n",
              "    <tr>\n",
              "      <th>4</th>\n",
              "      <td>A4</td>\n",
              "      <td>B4</td>\n",
              "      <td>C4</td>\n",
              "    </tr>\n",
              "    <tr>\n",
              "      <th>5</th>\n",
              "      <td>A5</td>\n",
              "      <td>B5</td>\n",
              "      <td>C5</td>\n",
              "    </tr>\n",
              "    <tr>\n",
              "      <th>6</th>\n",
              "      <td>A6</td>\n",
              "      <td>B6</td>\n",
              "      <td>C6</td>\n",
              "    </tr>\n",
              "    <tr>\n",
              "      <th>7</th>\n",
              "      <td>A7</td>\n",
              "      <td>B7</td>\n",
              "      <td>C7</td>\n",
              "    </tr>\n",
              "  </tbody>\n",
              "</table>\n",
              "</div>"
            ],
            "text/plain": [
              "    A   B   C\n",
              "0  A0  B0  C0\n",
              "1  A1  B1  C1\n",
              "2  A2  B2  C2\n",
              "3  A3  B3  C3\n",
              "4  A4  B4  C4\n",
              "5  A5  B5  C5\n",
              "6  A6  B6  C6\n",
              "7  A7  B7  C7"
            ]
          },
          "execution_count": 35,
          "metadata": {},
          "output_type": "execute_result"
        }
      ],
      "source": [
        "# we can merge different dataframes to have a single dataframe, like database manipulation\n",
        "frames = [df1, df2]\n",
        "result_df = pd.concat(frames)\n",
        "result_df"
      ]
    },
    {
      "cell_type": "code",
      "execution_count": null,
      "id": "4f7d4aac",
      "metadata": {
        "colab": {
          "base_uri": "https://localhost:8080/",
          "height": 81
        },
        "id": "4f7d4aac",
        "outputId": "732cbfdd-cdbf-4bdc-c1c9-d699ed5222e5"
      },
      "outputs": [
        {
          "data": {
            "text/html": [
              "<div>\n",
              "<style scoped>\n",
              "    .dataframe tbody tr th:only-of-type {\n",
              "        vertical-align: middle;\n",
              "    }\n",
              "\n",
              "    .dataframe tbody tr th {\n",
              "        vertical-align: top;\n",
              "    }\n",
              "\n",
              "    .dataframe thead th {\n",
              "        text-align: right;\n",
              "    }\n",
              "</style>\n",
              "<table border=\"1\" class=\"dataframe\">\n",
              "  <thead>\n",
              "    <tr style=\"text-align: right;\">\n",
              "      <th></th>\n",
              "      <th>A</th>\n",
              "      <th>B</th>\n",
              "      <th>C</th>\n",
              "    </tr>\n",
              "  </thead>\n",
              "  <tbody>\n",
              "    <tr>\n",
              "      <th>0</th>\n",
              "      <td>A0</td>\n",
              "      <td>B0</td>\n",
              "      <td>C0</td>\n",
              "    </tr>\n",
              "  </tbody>\n",
              "</table>\n",
              "</div>"
            ],
            "text/plain": [
              "    A   B   C\n",
              "0  A0  B0  C0"
            ]
          },
          "execution_count": 36,
          "metadata": {},
          "output_type": "execute_result"
        }
      ],
      "source": [
        "# For a dataframe, we can select rows using the index\n",
        "\n",
        "result_df[result_df.index == 0] # or result_df.loc[0]"
      ]
    },
    {
      "cell_type": "code",
      "execution_count": null,
      "id": "94d0247a",
      "metadata": {
        "colab": {
          "base_uri": "https://localhost:8080/",
          "height": 81
        },
        "id": "94d0247a",
        "outputId": "e255d391-58ff-4493-eb43-03c4d04e4cae"
      },
      "outputs": [
        {
          "data": {
            "text/html": [
              "<div>\n",
              "<style scoped>\n",
              "    .dataframe tbody tr th:only-of-type {\n",
              "        vertical-align: middle;\n",
              "    }\n",
              "\n",
              "    .dataframe tbody tr th {\n",
              "        vertical-align: top;\n",
              "    }\n",
              "\n",
              "    .dataframe thead th {\n",
              "        text-align: right;\n",
              "    }\n",
              "</style>\n",
              "<table border=\"1\" class=\"dataframe\">\n",
              "  <thead>\n",
              "    <tr style=\"text-align: right;\">\n",
              "      <th></th>\n",
              "      <th>A</th>\n",
              "      <th>B</th>\n",
              "      <th>C</th>\n",
              "    </tr>\n",
              "  </thead>\n",
              "  <tbody>\n",
              "    <tr>\n",
              "      <th>5</th>\n",
              "      <td>A5</td>\n",
              "      <td>B5</td>\n",
              "      <td>C5</td>\n",
              "    </tr>\n",
              "  </tbody>\n",
              "</table>\n",
              "</div>"
            ],
            "text/plain": [
              "    A   B   C\n",
              "5  A5  B5  C5"
            ]
          },
          "execution_count": 37,
          "metadata": {},
          "output_type": "execute_result"
        }
      ],
      "source": [
        "# For a dataframe, we can select rows based on a column's value \n",
        "\n",
        "result_df[result_df['B'] == 'B5']"
      ]
    },
    {
      "cell_type": "code",
      "execution_count": null,
      "id": "d27cc630",
      "metadata": {
        "colab": {
          "base_uri": "https://localhost:8080/",
          "height": 112
        },
        "id": "d27cc630",
        "outputId": "0c6a7ea1-db8c-4c6c-b7c1-129af4a52248"
      },
      "outputs": [
        {
          "data": {
            "text/html": [
              "<div>\n",
              "<style scoped>\n",
              "    .dataframe tbody tr th:only-of-type {\n",
              "        vertical-align: middle;\n",
              "    }\n",
              "\n",
              "    .dataframe tbody tr th {\n",
              "        vertical-align: top;\n",
              "    }\n",
              "\n",
              "    .dataframe thead th {\n",
              "        text-align: right;\n",
              "    }\n",
              "</style>\n",
              "<table border=\"1\" class=\"dataframe\">\n",
              "  <thead>\n",
              "    <tr style=\"text-align: right;\">\n",
              "      <th></th>\n",
              "      <th>A</th>\n",
              "      <th>B</th>\n",
              "      <th>C</th>\n",
              "    </tr>\n",
              "  </thead>\n",
              "  <tbody>\n",
              "    <tr>\n",
              "      <th>0</th>\n",
              "      <td>A0</td>\n",
              "      <td>B0</td>\n",
              "      <td>C0</td>\n",
              "    </tr>\n",
              "    <tr>\n",
              "      <th>5</th>\n",
              "      <td>A5</td>\n",
              "      <td>B5</td>\n",
              "      <td>C5</td>\n",
              "    </tr>\n",
              "  </tbody>\n",
              "</table>\n",
              "</div>"
            ],
            "text/plain": [
              "    A   B   C\n",
              "0  A0  B0  C0\n",
              "5  A5  B5  C5"
            ]
          },
          "execution_count": 38,
          "metadata": {},
          "output_type": "execute_result"
        }
      ],
      "source": [
        "result_df[result_df['B'].isin(['B0', 'B5', 'B10'])]"
      ]
    },
    {
      "cell_type": "code",
      "execution_count": null,
      "id": "1436333d",
      "metadata": {
        "colab": {
          "base_uri": "https://localhost:8080/",
          "height": 332
        },
        "id": "1436333d",
        "outputId": "8e6544b1-ac04-4f25-c0f9-ea7cfd8a07a4"
      },
      "outputs": [
        {
          "data": {
            "text/html": [
              "<div>\n",
              "<style scoped>\n",
              "    .dataframe tbody tr th:only-of-type {\n",
              "        vertical-align: middle;\n",
              "    }\n",
              "\n",
              "    .dataframe tbody tr th {\n",
              "        vertical-align: top;\n",
              "    }\n",
              "\n",
              "    .dataframe thead th {\n",
              "        text-align: right;\n",
              "    }\n",
              "</style>\n",
              "<table border=\"1\" class=\"dataframe\">\n",
              "  <thead>\n",
              "    <tr style=\"text-align: right;\">\n",
              "      <th></th>\n",
              "      <th>A</th>\n",
              "      <th>C</th>\n",
              "    </tr>\n",
              "    <tr>\n",
              "      <th>B</th>\n",
              "      <th></th>\n",
              "      <th></th>\n",
              "    </tr>\n",
              "  </thead>\n",
              "  <tbody>\n",
              "    <tr>\n",
              "      <th>B0</th>\n",
              "      <td>A0</td>\n",
              "      <td>C0</td>\n",
              "    </tr>\n",
              "    <tr>\n",
              "      <th>B1</th>\n",
              "      <td>A1</td>\n",
              "      <td>C1</td>\n",
              "    </tr>\n",
              "    <tr>\n",
              "      <th>B2</th>\n",
              "      <td>A2</td>\n",
              "      <td>C2</td>\n",
              "    </tr>\n",
              "    <tr>\n",
              "      <th>B3</th>\n",
              "      <td>A3</td>\n",
              "      <td>C3</td>\n",
              "    </tr>\n",
              "    <tr>\n",
              "      <th>B4</th>\n",
              "      <td>A4</td>\n",
              "      <td>C4</td>\n",
              "    </tr>\n",
              "    <tr>\n",
              "      <th>B5</th>\n",
              "      <td>A5</td>\n",
              "      <td>C5</td>\n",
              "    </tr>\n",
              "    <tr>\n",
              "      <th>B6</th>\n",
              "      <td>A6</td>\n",
              "      <td>C6</td>\n",
              "    </tr>\n",
              "    <tr>\n",
              "      <th>B7</th>\n",
              "      <td>A7</td>\n",
              "      <td>C7</td>\n",
              "    </tr>\n",
              "  </tbody>\n",
              "</table>\n",
              "</div>"
            ],
            "text/plain": [
              "     A   C\n",
              "B         \n",
              "B0  A0  C0\n",
              "B1  A1  C1\n",
              "B2  A2  C2\n",
              "B3  A3  C3\n",
              "B4  A4  C4\n",
              "B5  A5  C5\n",
              "B6  A6  C6\n",
              "B7  A7  C7"
            ]
          },
          "execution_count": 39,
          "metadata": {},
          "output_type": "execute_result"
        }
      ],
      "source": [
        "# If we do not want to use the default index, we only care about a specific column, make this column as index\n",
        "result_df2 = result_df.set_index('B')\n",
        "result_df2"
      ]
    },
    {
      "cell_type": "code",
      "execution_count": null,
      "id": "8xBIURcFq0_n",
      "metadata": {
        "id": "8xBIURcFq0_n"
      },
      "outputs": [],
      "source": [
        "# Other import methods\n",
        "\n",
        "# result_df['A'].unique()\n",
        "# result_df['A'].nunique()\n",
        "# result_df.isna()\n",
        "# result_df['A'].isna()\n",
        "# result_df['A'].dropna()\n",
        "# result_df['A'].fillna('K')\n",
        "# result_df.drop(['A'], axis=1)\n",
        "# result_df.drop([1])"
      ]
    },
    {
      "cell_type": "markdown",
      "id": "08f3c257",
      "metadata": {
        "id": "08f3c257"
      },
      "source": [
        "## Matplotlib package\n",
        "Matplotlib is a plotting library for generating various types of figures. An advanced package Seaborn is built top on top of Matplotlib, therefore we usually directly use Seaborn."
      ]
    },
    {
      "cell_type": "code",
      "execution_count": null,
      "id": "ddf4f4b1",
      "metadata": {
        "id": "ddf4f4b1"
      },
      "outputs": [],
      "source": [
        "import matplotlib.pyplot as plt"
      ]
    },
    {
      "cell_type": "code",
      "execution_count": null,
      "id": "ab002c4d",
      "metadata": {
        "colab": {
          "base_uri": "https://localhost:8080/",
          "height": 283
        },
        "id": "ab002c4d",
        "outputId": "861e69d9-8cf0-4266-9518-855457c639df"
      },
      "outputs": [
        {
          "data": {
            "text/plain": [
              "[<matplotlib.lines.Line2D at 0x15af3d71e20>]"
            ]
          },
          "execution_count": 42,
          "metadata": {},
          "output_type": "execute_result"
        },
        {
          "data": {
            "image/png": "[encoded data removed]",
            "text/plain": [
              "<Figure size 432x288 with 1 Axes>"
            ]
          },
          "metadata": {
            "needs_background": "light"
          },
          "output_type": "display_data"
        }
      ],
      "source": [
        "# very simple line plot\n",
        "# [1,2,3,4] for x-axis\n",
        "# [1,4,9,16] for y-axis\n",
        "\n",
        "plt.plot([1, 2, 3, 4], [1, 4, 9, 16])"
      ]
    },
    {
      "cell_type": "code",
      "execution_count": null,
      "id": "40c8b927",
      "metadata": {
        "colab": {
          "base_uri": "https://localhost:8080/",
          "height": 265
        },
        "id": "40c8b927",
        "outputId": "788f7277-b1c8-4237-cee2-086b9992f419"
      },
      "outputs": [
        {
          "data": {
            "image/png": "[encoded data removed]",
            "text/plain": [
              "<Figure size 432x288 with 1 Axes>"
            ]
          },
          "metadata": {
            "needs_background": "light"
          },
          "output_type": "display_data"
        }
      ],
      "source": [
        "# we can also only plot dots \n",
        "\n",
        "N = 50\n",
        "x = np.random.rand(N)\n",
        "y = np.random.rand(N)\n",
        "\n",
        "plt.scatter(x, y)\n",
        "plt.show()"
      ]
    },
    {
      "cell_type": "code",
      "execution_count": null,
      "id": "ce19e1dc",
      "metadata": {
        "colab": {
          "base_uri": "https://localhost:8080/",
          "height": 265
        },
        "id": "ce19e1dc",
        "outputId": "f72478de-6d81-481c-e2fc-e0f737cda977"
      },
      "outputs": [
        {
          "data": {
            "image/png": "[encoded data removed]",
            "text/plain": [
              "<Figure size 432x288 with 1 Axes>"
            ]
          },
          "metadata": {
            "needs_background": "light"
          },
          "output_type": "display_data"
        }
      ],
      "source": [
        "# Given the generated Numpy matrix, we can plot a basic histogram figure\n",
        "\n",
        "mu, sigma = 0, 0.1 # mean and standard deviation\n",
        "s = np.random.normal(mu, sigma, 1000)\n",
        "\n",
        "\n",
        "count, bins, ignored = plt.hist(s, 30, density=True) # count, bins are the returned parametres to plot figures\n",
        "plt.plot(bins, 1/(sigma * np.sqrt(2 * np.pi)) *\n",
        "               np.exp( - (bins - mu)**2 / (2 * sigma**2) ),\n",
        "         linewidth=2, color='r')\n",
        "plt.show()"
      ]
    },
    {
      "cell_type": "markdown",
      "id": "99cf86aa",
      "metadata": {
        "id": "99cf86aa"
      },
      "source": [
        "Formatting the style of your plot"
      ]
    },
    {
      "cell_type": "code",
      "execution_count": null,
      "id": "df8da62d",
      "metadata": {
        "colab": {
          "base_uri": "https://localhost:8080/",
          "height": 295
        },
        "id": "df8da62d",
        "outputId": "99ab59f4-30cc-4699-a262-f0a183dcd0cc"
      },
      "outputs": [
        {
          "data": {
            "image/png": "[encoded data removed]",
            "text/plain": [
              "<Figure size 432x288 with 1 Axes>"
            ]
          },
          "metadata": {
            "needs_background": "light"
          },
          "output_type": "display_data"
        }
      ],
      "source": [
        "count, bins, ignored = plt.hist(s, 30, density=True)\n",
        "plt.plot(bins, 1/(sigma * np.sqrt(2 * np.pi)) *\n",
        "               np.exp( - (bins - mu)**2 / (2 * sigma**2) ),\n",
        "         linewidth=2, color='r')\n",
        "\n",
        "\n",
        "# add more inforamtion\n",
        "plt.title('histogram Plotting') # add title\n",
        "plt.xlabel('x-axis') # add label of x and y axes\n",
        "plt.ylabel('y-axis')\n",
        "plt.savefig('test.png') # we can save the figure here\n",
        "plt.show()"
      ]
    },
    {
      "cell_type": "markdown",
      "id": "99b17818",
      "metadata": {
        "id": "99b17818"
      },
      "source": [
        "Grouping multiple subplots into a single figure"
      ]
    },
    {
      "cell_type": "code",
      "execution_count": null,
      "id": "857a1385",
      "metadata": {
        "colab": {
          "base_uri": "https://localhost:8080/",
          "height": 233
        },
        "id": "857a1385",
        "outputId": "03e50ae4-1308-4f70-ce4c-791f4cdb3c63"
      },
      "outputs": [
        {
          "data": {
            "image/png": "[encoded data removed]",
            "text/plain": [
              "<Figure size 648x216 with 3 Axes>"
            ]
          },
          "metadata": {
            "needs_background": "light"
          },
          "output_type": "display_data"
        }
      ],
      "source": [
        "names = ['group_a', 'group_b', 'group_c']\n",
        "values = [1, 10, 100]\n",
        "\n",
        "plt.figure(figsize=(9, 3))\n",
        "# (1,3,1) is better than (131), where the first 1 and the second 3 mean we have a total of 1 rows and 3 columns;\n",
        "# and the last parameters (1,2,3) mean we use the first, second or third columns to plot figure\n",
        "plt.subplot((1, 3, 1))  # plt.subplot(131)  \n",
        "plt.bar(names, values)\n",
        "plt.subplot((1, 3, 2)) # plt.subplot(132) \n",
        "plt.scatter(names, values)\n",
        "plt.subplot((1, 3, 3)) # plt.subplot(133) \n",
        "plt.plot(names, values)\n",
        "plt.suptitle('Categorical Plotting')\n",
        "plt.show()"
      ]
    },
    {
      "cell_type": "markdown",
      "id": "ac21dec0",
      "metadata": {
        "id": "ac21dec0"
      },
      "source": [
        "# Seaborn provides simple high-level functions for common plotting functions of Matplotlib"
      ]
    },
    {
      "cell_type": "code",
      "execution_count": null,
      "id": "528be9f0",
      "metadata": {
        "id": "528be9f0"
      },
      "outputs": [],
      "source": [
        "import seaborn as sns"
      ]
    },
    {
      "cell_type": "code",
      "execution_count": null,
      "id": "e685f654",
      "metadata": {
        "colab": {
          "base_uri": "https://localhost:8080/",
          "height": 424
        },
        "id": "e685f654",
        "outputId": "53a6a9ee-39f6-4fa4-a41c-6574402bb0fb"
      },
      "outputs": [
        {
          "data": {
            "text/html": [
              "<div>\n",
              "<style scoped>\n",
              "    .dataframe tbody tr th:only-of-type {\n",
              "        vertical-align: middle;\n",
              "    }\n",
              "\n",
              "    .dataframe tbody tr th {\n",
              "        vertical-align: top;\n",
              "    }\n",
              "\n",
              "    .dataframe thead th {\n",
              "        text-align: right;\n",
              "    }\n",
              "</style>\n",
              "<table border=\"1\" class=\"dataframe\">\n",
              "  <thead>\n",
              "    <tr style=\"text-align: right;\">\n",
              "      <th></th>\n",
              "      <th>total_bill</th>\n",
              "      <th>tip</th>\n",
              "      <th>sex</th>\n",
              "      <th>smoker</th>\n",
              "      <th>day</th>\n",
              "      <th>time</th>\n",
              "      <th>size</th>\n",
              "    </tr>\n",
              "  </thead>\n",
              "  <tbody>\n",
              "    <tr>\n",
              "      <th>0</th>\n",
              "      <td>16.99</td>\n",
              "      <td>1.01</td>\n",
              "      <td>Female</td>\n",
              "      <td>No</td>\n",
              "      <td>Sun</td>\n",
              "      <td>Dinner</td>\n",
              "      <td>2</td>\n",
              "    </tr>\n",
              "    <tr>\n",
              "      <th>1</th>\n",
              "      <td>10.34</td>\n",
              "      <td>1.66</td>\n",
              "      <td>Male</td>\n",
              "      <td>No</td>\n",
              "      <td>Sun</td>\n",
              "      <td>Dinner</td>\n",
              "      <td>3</td>\n",
              "    </tr>\n",
              "    <tr>\n",
              "      <th>2</th>\n",
              "      <td>21.01</td>\n",
              "      <td>3.50</td>\n",
              "      <td>Male</td>\n",
              "      <td>No</td>\n",
              "      <td>Sun</td>\n",
              "      <td>Dinner</td>\n",
              "      <td>3</td>\n",
              "    </tr>\n",
              "    <tr>\n",
              "      <th>3</th>\n",
              "      <td>23.68</td>\n",
              "      <td>3.31</td>\n",
              "      <td>Male</td>\n",
              "      <td>No</td>\n",
              "      <td>Sun</td>\n",
              "      <td>Dinner</td>\n",
              "      <td>2</td>\n",
              "    </tr>\n",
              "    <tr>\n",
              "      <th>4</th>\n",
              "      <td>24.59</td>\n",
              "      <td>3.61</td>\n",
              "      <td>Female</td>\n",
              "      <td>No</td>\n",
              "      <td>Sun</td>\n",
              "      <td>Dinner</td>\n",
              "      <td>4</td>\n",
              "    </tr>\n",
              "    <tr>\n",
              "      <th>...</th>\n",
              "      <td>...</td>\n",
              "      <td>...</td>\n",
              "      <td>...</td>\n",
              "      <td>...</td>\n",
              "      <td>...</td>\n",
              "      <td>...</td>\n",
              "      <td>...</td>\n",
              "    </tr>\n",
              "    <tr>\n",
              "      <th>239</th>\n",
              "      <td>29.03</td>\n",
              "      <td>5.92</td>\n",
              "      <td>Male</td>\n",
              "      <td>No</td>\n",
              "      <td>Sat</td>\n",
              "      <td>Dinner</td>\n",
              "      <td>3</td>\n",
              "    </tr>\n",
              "    <tr>\n",
              "      <th>240</th>\n",
              "      <td>27.18</td>\n",
              "      <td>2.00</td>\n",
              "      <td>Female</td>\n",
              "      <td>Yes</td>\n",
              "      <td>Sat</td>\n",
              "      <td>Dinner</td>\n",
              "      <td>2</td>\n",
              "    </tr>\n",
              "    <tr>\n",
              "      <th>241</th>\n",
              "      <td>22.67</td>\n",
              "      <td>2.00</td>\n",
              "      <td>Male</td>\n",
              "      <td>Yes</td>\n",
              "      <td>Sat</td>\n",
              "      <td>Dinner</td>\n",
              "      <td>2</td>\n",
              "    </tr>\n",
              "    <tr>\n",
              "      <th>242</th>\n",
              "      <td>17.82</td>\n",
              "      <td>1.75</td>\n",
              "      <td>Male</td>\n",
              "      <td>No</td>\n",
              "      <td>Sat</td>\n",
              "      <td>Dinner</td>\n",
              "      <td>2</td>\n",
              "    </tr>\n",
              "    <tr>\n",
              "      <th>243</th>\n",
              "      <td>18.78</td>\n",
              "      <td>3.00</td>\n",
              "      <td>Female</td>\n",
              "      <td>No</td>\n",
              "      <td>Thur</td>\n",
              "      <td>Dinner</td>\n",
              "      <td>2</td>\n",
              "    </tr>\n",
              "  </tbody>\n",
              "</table>\n",
              "<p>244 rows × 7 columns</p>\n",
              "</div>"
            ],
            "text/plain": [
              "     total_bill   tip     sex smoker   day    time  size\n",
              "0         16.99  1.01  Female     No   Sun  Dinner     2\n",
              "1         10.34  1.66    Male     No   Sun  Dinner     3\n",
              "2         21.01  3.50    Male     No   Sun  Dinner     3\n",
              "3         23.68  3.31    Male     No   Sun  Dinner     2\n",
              "4         24.59  3.61  Female     No   Sun  Dinner     4\n",
              "..          ...   ...     ...    ...   ...     ...   ...\n",
              "239       29.03  5.92    Male     No   Sat  Dinner     3\n",
              "240       27.18  2.00  Female    Yes   Sat  Dinner     2\n",
              "241       22.67  2.00    Male    Yes   Sat  Dinner     2\n",
              "242       17.82  1.75    Male     No   Sat  Dinner     2\n",
              "243       18.78  3.00  Female     No  Thur  Dinner     2\n",
              "\n",
              "[244 rows x 7 columns]"
            ]
          },
          "execution_count": 48,
          "metadata": {},
          "output_type": "execute_result"
        }
      ],
      "source": [
        "# a complex dataframe\n",
        "\n",
        "tips = sns.load_dataset(\"tips\")"
      ]
    },
    {
      "cell_type": "code",
      "execution_count": null,
      "id": "7f162c84",
      "metadata": {
        "colab": {
          "base_uri": "https://localhost:8080/",
          "height": 370
        },
        "id": "7f162c84",
        "outputId": "8d35c219-265c-4251-dc72-3ec10a4c1ba1"
      },
      "outputs": [
        {
          "data": {
            "image/png": "[encoded data removed]",
            "text/plain": [
              "<Figure size 412x360 with 1 Axes>"
            ]
          },
          "metadata": {
            "needs_background": "light"
          },
          "output_type": "display_data"
        }
      ],
      "source": [
        "# very easy to get relational plots \n",
        "\n",
        "sns.relplot(x=\"total_bill\", y=\"tip\", hue=\"smoker\", data=tips);\n",
        "\n",
        "# the hue indicates the columns \"smoker\", it will be \"yes\" or \"no\"\n",
        "# so it distinguish dots into two categories: blue and orange\n",
        "# and we generate the right legend"
      ]
    }
  ],
  "metadata": {
    "colab": {
      "provenance": []
    },
    "kernelspec": {
      "display_name": "Python 3.10.1 64-bit",
      "language": "python",
      "name": "python3"
    },
    "language_info": {
      "codemirror_mode": {
        "name": "ipython",
        "version": 3
      },
      "file_extension": ".py",
      "mimetype": "text/x-python",
      "name": "python",
      "nbconvert_exporter": "python",
      "pygments_lexer": "ipython3",
      "version": "3.10.1"
    },
    "vscode": {
      "interpreter": {
        "hash": "3b79a9603654acc1a1dda7ab9d7fbeea5670a7835087b35cd5f08522a1762abf"
      }
    }
  },
  "nbformat": 4,
  "nbformat_minor": 5
}
